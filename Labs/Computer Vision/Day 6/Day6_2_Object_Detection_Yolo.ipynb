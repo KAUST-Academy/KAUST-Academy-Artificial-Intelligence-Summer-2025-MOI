{
 "cells": [
  {
   "cell_type": "markdown",
   "metadata": {},
   "source": [
    "![image.png](https://i.imgur.com/a3uAqnb.png)"
   ]
  },
  {
   "cell_type": "markdown",
   "metadata": {},
   "source": [
    "# **⚡ Wind Turbine Object Detection with YOLOv8**\n",
    "In this lab, we will:\n",
    "✅ **Use YOLOv8** for **wind turbine detection**  \n",
    "✅ **Understand the dataset structure**  \n",
    "✅ **Train a YOLOv8 model**  \n",
    "✅ **Evaluate the model on the validation set**  \n",
    "✅ **Run inference on test images**  \n",
    "\n",
    "---\n",
    "\n",
    "## **1️⃣ Understanding the Dataset Structure**\n",
    "The dataset follows the **YOLO format**, which consists of:\n",
    "📂 **train/** → Training images & labels  \n",
    "📂 **valid/** → Validation images & labels  \n",
    "📂 **test/** → Test images (for inference)  \n",
    "📜 **data.yaml** → Defines dataset paths & class names  \n",
    "\n",
    "### **🔹 YOLO Dataset Folder Structure**\n",
    "```\n",
    "drone_dataset/\n",
    "│── train/\n",
    "│   │── images/\n",
    "│   │   ├── pic_031.jpg\n",
    "│   │   ├── pic_032.jpg\n",
    "│   │   ├── ...\n",
    "│   │── labels/\n",
    "│   │   ├── pic_031.txt\n",
    "│   │   ├── pic_032.txt\n",
    "│   │   ├── ...\n",
    "│\n",
    "│── valid/\n",
    "│   │── images/\n",
    "│   │   ├── pic_035.jpg\n",
    "│   │   ├── pic_036.jpg\n",
    "│   │   ├── ...\n",
    "│   │── labels/\n",
    "│   │   ├── pic_035.txt\n",
    "│   │   ├── pic_036.txt\n",
    "│   │   ├── ...\n",
    "│\n",
    "│── test/\n",
    "│   │── images/\n",
    "│   │   ├── pic_040.jpg\n",
    "│   │   ├── pic_041.jpg\n",
    "│   │   ├── ...\n",
    "│   │── labels/\n",
    "│   │   ├── pic_040.txt\n",
    "│   │   ├── pic_041.txt\n",
    "│   │   ├── ...\n",
    "│\n",
    "│── data.yaml\n",
    "```\n",
    "Each **image** has a **corresponding label** file with the **same name**, but a `.txt` extension.\n",
    "\n",
    "---"
   ]
  },
  {
   "cell_type": "markdown",
   "metadata": {},
   "source": [
    "## **2️⃣ What’s Inside a YOLO Label File?**\n",
    "Each `.txt` file contains **annotations** in this format:\n",
    "\n",
    "```\n",
    "<class_id> <x_center> <y_center> <width> <height>\n",
    "```\n",
    "\n",
    "✅ **All values are normalized** between **0 and 1**  \n",
    "✅ The **bounding box** is defined by its **center** and **size**  \n",
    "\n",
    "### **🔹 Example (`pic_031.txt`)**\n",
    "```\n",
    "0 0.526 0.448 0.12 0.15\n",
    "1 0.731 0.602 0.18 0.22\n",
    "```\n",
    "- **First column** → Class ID (`0` = cable tower, `1` = turbine)  \n",
    "- **Rest** → Bounding box (normalized)  \n",
    "\n",
    "---"
   ]
  },
  {
   "cell_type": "markdown",
   "metadata": {},
   "source": [
    "## **3️⃣ Loading the Dataset**"
   ]
  },
  {
   "cell_type": "code",
   "metadata": {},
   "source": [
    "# # Please uncomment this out when you are running this lab on google colab!\n",
    "# import os\n",
    "\n",
    "# # Set KaggleHub cache to a directory inside /content/\n",
    "# os.environ[\"KAGGLEHUB_CACHE\"] = \"/content/data\""
   ],
   "outputs": [],
   "execution_count": null
  },
  {
   "cell_type": "code",
   "metadata": {
    "execution": {
     "iopub.execute_input": "2025-02-02T19:21:15.237708Z",
     "iopub.status.busy": "2025-02-02T19:21:15.237423Z",
     "iopub.status.idle": "2025-02-02T19:21:41.510788Z",
     "shell.execute_reply": "2025-02-02T19:21:41.510104Z",
     "shell.execute_reply.started": "2025-02-02T19:21:15.237683Z"
    },
    "trusted": true
   },
   "source": [
    "import kagglehub\n",
    "\n",
    "# Download the dataset\n",
    "path = kagglehub.dataset_download(\"kylegraupe/wind-turbine-image-dataset-for-computer-vision\")\n",
    "\n",
    "print(\"Path to dataset files:\", path)"
   ],
   "outputs": [],
   "execution_count": null
  },
  {
   "cell_type": "code",
   "metadata": {
    "execution": {
     "iopub.execute_input": "2025-02-02T19:21:41.512029Z",
     "iopub.status.busy": "2025-02-02T19:21:41.511746Z",
     "iopub.status.idle": "2025-02-02T19:21:41.523049Z",
     "shell.execute_reply": "2025-02-02T19:21:41.522197Z",
     "shell.execute_reply.started": "2025-02-02T19:21:41.512005Z"
    },
    "trusted": true
   },
   "source": [
    "# Load dataset configuration\n",
    "dataset_path = path + \"/data.yaml\"\n",
    "\n",
    "# Check dataset information\n",
    "print(open(dataset_path).read())"
   ],
   "outputs": [],
   "execution_count": null
  },
  {
   "cell_type": "markdown",
   "metadata": {},
   "source": [
    "## **4️⃣ Training a YOLOv8 Model**\n",
    "We will fine-tune a **pretrained YOLOv8 model**."
   ]
  },
  {
   "cell_type": "code",
   "metadata": {
    "execution": {
     "iopub.execute_input": "2025-02-02T19:24:26.020299Z",
     "iopub.status.busy": "2025-02-02T19:24:26.019966Z",
     "iopub.status.idle": "2025-02-02T19:24:30.953915Z",
     "shell.execute_reply": "2025-02-02T19:24:30.952836Z",
     "shell.execute_reply.started": "2025-02-02T19:24:26.020272Z"
    },
    "trusted": true
   },
   "source": [
    "# Install Ultralytics library which has Yolo \n",
    "# !pip install -q ultralytics"
   ],
   "outputs": [],
   "execution_count": null
  },
  {
   "cell_type": "code",
   "metadata": {
    "trusted": true
   },
   "source": [
    "from ultralytics import YOLO\n",
    "import matplotlib.pyplot as plt\n",
    "# Load YOLOv8 model (small version)\n",
    "model = YOLO(\"yolov8s.pt\")"
   ],
   "outputs": [],
   "execution_count": null
  },
  {
   "cell_type": "markdown",
   "metadata": {},
   "source": [
    "#### Let's try to predict an image before training"
   ]
  },
  {
   "cell_type": "code",
   "metadata": {
    "execution": {
     "iopub.execute_input": "2025-02-02T20:12:54.405437Z",
     "iopub.status.busy": "2025-02-02T20:12:54.405129Z",
     "iopub.status.idle": "2025-02-02T20:12:55.172763Z",
     "shell.execute_reply": "2025-02-02T20:12:55.171857Z",
     "shell.execute_reply.started": "2025-02-02T20:12:54.405414Z"
    },
    "trusted": true
   },
   "source": [
    "# Load an image and run inference\n",
    "results = model(path + \"/test/images/windmill1_jpg.rf.35f47a69d0373596edb7578eea5151f6.jpg\", save=True)\n",
    "\n",
    "# Convert result to a NumPy array and display\n",
    "predicted_image = results[0].plot()  # Convert prediction to an image\n",
    "\n",
    "plt.figure(figsize=(16, 16))\n",
    "plt.imshow(predicted_image)\n",
    "plt.axis(\"off\")\n",
    "plt.title(\"Predicted Image\")\n",
    "plt.show()\n"
   ],
   "outputs": [],
   "execution_count": null
  },
  {
   "cell_type": "markdown",
   "metadata": {},
   "source": [
    "## OMG, AI will take over the world.🫠\n",
    "#### -Ali H 2/2/2025 at 11:06PM"
   ]
  },
  {
   "cell_type": "markdown",
   "metadata": {},
   "source": [
    "#### Nevermind, let's train it! 🚀"
   ]
  },
  {
   "cell_type": "code",
   "metadata": {
    "execution": {
     "iopub.execute_input": "2025-02-02T19:24:33.222421Z",
     "iopub.status.busy": "2025-02-02T19:24:33.222081Z",
     "iopub.status.idle": "2025-02-02T19:43:28.676773Z",
     "shell.execute_reply": "2025-02-02T19:43:28.675735Z",
     "shell.execute_reply.started": "2025-02-02T19:24:33.222385Z"
    },
    "scrolled": true,
    "trusted": true
   },
   "source": [
    "# Train on the wind turbine dataset\n",
    "model.train(data=dataset_path, epochs=20, imgsz=640)"
   ],
   "outputs": [],
   "execution_count": null
  },
  {
   "cell_type": "markdown",
   "metadata": {},
   "source": [
    "## **5️⃣ Evaluating the Model**\n",
    "We use **mAP@0.5:0.95** to assess performance. "
   ]
  },
  {
   "cell_type": "code",
   "metadata": {
    "execution": {
     "iopub.execute_input": "2025-02-02T20:01:08.818351Z",
     "iopub.status.busy": "2025-02-02T20:01:08.818058Z",
     "iopub.status.idle": "2025-02-02T20:01:15.893475Z",
     "shell.execute_reply": "2025-02-02T20:01:15.892446Z",
     "shell.execute_reply.started": "2025-02-02T20:01:08.818329Z"
    },
    "trusted": true
   },
   "source": [
    "# Run validation\n",
    "metrics = model.val(data=dataset_path)"
   ],
   "outputs": [],
   "execution_count": null
  },
  {
   "cell_type": "markdown",
   "metadata": {},
   "source": [
    "## **6️⃣ Running Inference on Test Images**\n"
   ]
  },
  {
   "cell_type": "code",
   "metadata": {
    "execution": {
     "iopub.execute_input": "2025-02-02T19:53:15.573586Z",
     "iopub.status.busy": "2025-02-02T19:53:15.573266Z",
     "iopub.status.idle": "2025-02-02T19:53:16.000995Z",
     "shell.execute_reply": "2025-02-02T19:53:16.000100Z",
     "shell.execute_reply.started": "2025-02-02T19:53:15.573558Z"
    },
    "trusted": true
   },
   "source": [
    "# Load an image and run inference\n",
    "model = YOLO(model.trainer.best)  # Use the best weights\n",
    "results = model(path + \"/test/images/windmill1_jpg.rf.35f47a69d0373596edb7578eea5151f6.jpg\", save=True)\n",
    "\n",
    "# Convert result to a NumPy array and display\n",
    "predicted_image = results[0].plot()  # Convert prediction to an image\n",
    "\n",
    "plt.figure(figsize=(8, 8))\n",
    "plt.imshow(predicted_image)\n",
    "plt.axis(\"off\")\n",
    "plt.title(\"Predicted Image\")\n",
    "plt.show()\n"
   ],
   "outputs": [],
   "execution_count": null
  },
  {
   "cell_type": "markdown",
   "metadata": {},
   "source": [
    "### 🚀 **Now you have a working YOLOv8 object detection pipeline for wind turbines!**"
   ]
  },
  {
   "cell_type": "markdown",
   "metadata": {},
   "source": [
    "![image.png](https://i.imgur.com/rGGLEsK.png)"
   ]
  },
  {
   "cell_type": "markdown",
   "metadata": {},
   "source": [
    "### Contributed by: Ali Habibullah & Mohamed Eltayeb"
   ]
  }
 ],
 "metadata": {
  "kaggle": {
   "accelerator": "gpu",
   "dataSources": [
    {
     "databundleVersionId": 10791872,
     "datasetId": 5846574,
     "sourceId": 10468495,
     "sourceType": "datasetVersion"
    },
    {
     "databundleVersionId": 5564975,
     "datasetId": 3026044,
     "sourceId": 5490619,
     "sourceType": "datasetVersion"
    },
    {
     "databundleVersionId": 4036484,
     "datasetId": 2362246,
     "sourceId": 3980818,
     "sourceType": "datasetVersion"
    }
   ],
   "dockerImageVersionId": 30840,
   "isGpuEnabled": true,
   "isInternetEnabled": true,
   "language": "python",
   "sourceType": "notebook"
  },
  "kernelspec": {
   "display_name": "Python 3",
   "language": "python",
   "name": "python3"
  },
  "language_info": {
   "codemirror_mode": {
    "name": "ipython",
    "version": 3
   },
   "file_extension": ".py",
   "mimetype": "text/x-python",
   "name": "python",
   "nbconvert_exporter": "python",
   "pygments_lexer": "ipython3",
   "version": "3.10.12"
  }
 },
 "nbformat": 4,
 "nbformat_minor": 4
}
