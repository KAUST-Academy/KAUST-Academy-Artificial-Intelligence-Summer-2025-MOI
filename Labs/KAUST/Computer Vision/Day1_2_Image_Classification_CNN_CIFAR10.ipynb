{
 "cells": [
  {
   "cell_type": "markdown",
   "metadata": {},
   "source": [
    "![image.png](https://i.imgur.com/a3uAqnb.png)"
   ]
  },
  {
   "cell_type": "markdown",
   "metadata": {},
   "source": [
    "# Image Classification using CNN: CIFAR10\n",
    "- **Images**: 60,000 color images of size **(32x32)** in **10 categories**, with 6000 images per class. There are 50000 training images and 10000 test images.\n",
    "- **Classes**: Airplane, Automobile, Bird, Cat, Deer, Dog, Frog, Horse, Ship, Truck.\n",
    "- **Shape**: `(batch_size, 3, 32, 32)` → 3 channels (RGB).\n",
    "  \n",
    "![CIFAR-10 image](https://production-media.paperswithcode.com/datasets/4fdf2b82-2bc3-4f97-ba51-400322b228b1.png)\n"
   ]
  },
  {
   "cell_type": "markdown",
   "metadata": {},
   "source": [
    "## 1️⃣ Dataset Class"
   ]
  },
  {
   "cell_type": "code",
   "metadata": {
    "execution": {
     "iopub.execute_input": "2025-02-04T11:46:51.760755Z",
     "iopub.status.busy": "2025-02-04T11:46:51.760332Z",
     "iopub.status.idle": "2025-02-04T11:47:26.374504Z",
     "shell.execute_reply": "2025-02-04T11:47:26.373707Z",
     "shell.execute_reply.started": "2025-02-04T11:46:51.760728Z"
    },
    "trusted": true
   },
   "source": [
    "import torch\n",
    "import torchvision.transforms as transforms\n",
    "from torchvision.datasets import CIFAR10\n",
    "from torch.utils.data import DataLoader\n",
    "\n",
    "# Define transformations (convert to tensor)                         ## Will study in-depth in a next lab\n",
    "transform = transforms.Compose([\n",
    "    transforms.ToTensor(),\n",
    "])\n",
    "\n",
    "# Load CIFAR-10 dataset  \n",
    "train_dataset = CIFAR10(root=\"./data\", train=True, transform=transform, download=True)\n",
    "test_dataset = CIFAR10(root=\"./data\", train=False, transform=transform, download=True)\n",
    "\n",
    "# Create DataLoaders \n",
    "# (The Dataset Class loads only one sample at a time. We pass it to dataloader to read batch_size of images at a time)\n",
    "train_loader = DataLoader(train_dataset, batch_size=32, shuffle=True, num_workers=2)\n",
    "test_loader = DataLoader(test_dataset, batch_size=32, shuffle=False, num_workers=2)\n",
    "\n",
    "# Check dataset size\n",
    "print(f\"Training samples: {len(train_dataset)}, Testing samples: {len(test_dataset)}\")\n"
   ],
   "outputs": [],
   "execution_count": null
  },
  {
   "cell_type": "markdown",
   "metadata": {},
   "source": [
    "### Let's display some images"
   ]
  },
  {
   "cell_type": "code",
   "metadata": {
    "execution": {
     "iopub.execute_input": "2025-02-04T11:47:26.375948Z",
     "iopub.status.busy": "2025-02-04T11:47:26.375495Z",
     "iopub.status.idle": "2025-02-04T11:47:27.093717Z",
     "shell.execute_reply": "2025-02-04T11:47:27.092647Z",
     "shell.execute_reply.started": "2025-02-04T11:47:26.375925Z"
    },
    "trusted": true
   },
   "source": [
    "import matplotlib.pyplot as plt\n",
    "import numpy as np\n",
    "\n",
    "# Get a batch of training data\n",
    "data_iter = iter(train_loader)\n",
    "images, labels = next(data_iter)\n",
    "\n",
    "# CIFAR-10 class names\n",
    "classes = ['Airplane', 'Automobile', 'Bird', 'Cat', 'Deer',\n",
    "           'Dog', 'Frog', 'Horse', 'Ship', 'Truck']\n",
    "\n",
    "# Show images\n",
    "fig, axes = plt.subplots(2, 5, figsize=(10, 5))\n",
    "for i, ax in enumerate(axes.flat):\n",
    "    img = images[i]\n",
    "    img = np.transpose(img.numpy(), (1, 2, 0))  # Convert (C, H, W) to (H, W, C)\n",
    "    \n",
    "    ax.imshow(img)\n",
    "    ax.set_title(classes[labels[i].item()])\n",
    "    ax.axis(\"off\")\n",
    "\n",
    "plt.show()\n",
    "\n",
    "# Show shape of one image\n",
    "print(\"Shape of one image tensor:\", images[0].shape)  # Expected: (3, 32, 32)\n"
   ],
   "outputs": [],
   "execution_count": null
  },
  {
   "cell_type": "markdown",
   "metadata": {},
   "source": [
    "## 2️⃣ Model Class"
   ]
  },
  {
   "cell_type": "code",
   "metadata": {
    "execution": {
     "iopub.execute_input": "2025-02-04T11:47:27.096115Z",
     "iopub.status.busy": "2025-02-04T11:47:27.095850Z",
     "iopub.status.idle": "2025-02-04T11:47:27.103027Z",
     "shell.execute_reply": "2025-02-04T11:47:27.102254Z",
     "shell.execute_reply.started": "2025-02-04T11:47:27.096088Z"
    },
    "trusted": true
   },
   "source": [
    "import torch.nn as nn\n",
    "import torch\n",
    "\n",
    "# Define the CNN Model\n",
    "class CNNModel(nn.Module):\n",
    "    def __init__(self):\n",
    "        super(CNNModel, self).__init__()\n",
    "        \n",
    "        # Convolutional Layers\n",
    "        self.conv1 = nn.Conv2d(in_channels=3, out_channels=16, kernel_size=3, padding=1)\n",
    "        self.conv2 = nn.Conv2d(in_channels=16, out_channels=32, kernel_size=3, padding=1)\n",
    "        self.conv3 = nn.Conv2d(in_channels=32, out_channels=64, kernel_size=3, padding=1)\n",
    "\n",
    "        # Activation\n",
    "        self.relu = nn.ReLU()\n",
    "        \n",
    "        # Pooling Layer\n",
    "        self.pool = nn.MaxPool2d(kernel_size=2, stride=2)\n",
    "        \n",
    "        # Fully Connected Layers\n",
    "        self.fc1 = nn.Linear(64 * 4 * 4, 128)\n",
    "        self.fc2 = nn.Linear(128, 10)  # 10 output classes for CIFAR-10\n",
    "\n",
    "    def forward(self, x):\n",
    "        # Convolution + ReLU + Pooling\n",
    "        x = self.pool(self.relu(self.conv1(x)))  # (Batch, 16, 16, 16)\n",
    "        x = self.pool(self.relu(self.conv2(x)))  # (Batch, 32, 8, 8)\n",
    "        x = self.pool(self.relu(self.conv3(x)))  # (Batch, 64, 4, 4)\n",
    "        \n",
    "        # Flatten\n",
    "        x = x.view(x.size(0), -1)  # (Batch, 64*4*4)\n",
    "        \n",
    "        # Fully Connected Layers\n",
    "        x = self.relu(self.fc1(x))\n",
    "        x = self.fc2(x)  # Logits\n",
    "        \n",
    "        return x                # Although this is a classification problem, we didn't apply softmax. Do you know why?👀 (Hint: CrossEntropyLoss has something to do here👀)"
   ],
   "outputs": [],
   "execution_count": null
  },
  {
   "cell_type": "markdown",
   "metadata": {},
   "source": [
    "## 3️⃣ Training and Validation Loops"
   ]
  },
  {
   "cell_type": "code",
   "metadata": {
    "execution": {
     "iopub.execute_input": "2025-02-04T11:49:25.352243Z",
     "iopub.status.busy": "2025-02-04T11:49:25.351871Z",
     "iopub.status.idle": "2025-02-04T11:49:25.361722Z",
     "shell.execute_reply": "2025-02-04T11:49:25.360807Z",
     "shell.execute_reply.started": "2025-02-04T11:49:25.352215Z"
    },
    "trusted": true
   },
   "source": [
    "from tqdm import tqdm    # Shows progress bar\n",
    "\n",
    "# 🔹 Training Loop\n",
    "def train_one_epoch(model, dataloader, criterion, optimizer, device):\n",
    "    model.train()  # Set model to training mode\n",
    "    total_loss = 0\n",
    "    correct = 0\n",
    "    total = 0\n",
    "\n",
    "    for images, labels in tqdm(dataloader):\n",
    "        images, labels = images.to(device), labels.to(device)\n",
    "\n",
    "        \n",
    "        outputs = model(images)  # Forward pass\n",
    "        loss = criterion(outputs, labels)  # Compute loss\n",
    "\n",
    "        optimizer.zero_grad()  # Reset gradients\n",
    "        loss.backward()  # Backpropagation\n",
    "        optimizer.step()  # Update weights\n",
    "\n",
    "        total_loss += loss.item()\n",
    "\n",
    "        # Track accuracy\n",
    "        outputs = torch.softmax(outputs, dim=1)\n",
    "        predictions = outputs.argmax(dim=1)  # Get class with highest probability\n",
    "        correct += (predictions == labels).sum().item()\n",
    "        total += labels.size(0)\n",
    "\n",
    "    avg_loss = total_loss / len(dataloader)\n",
    "    accuracy = 100 * correct / total  # Compute accuracy in percentage\n",
    "    return avg_loss, accuracy\n",
    "\n",
    "# 🔹 Validation Loop\n",
    "def validate(model, dataloader, criterion, device):\n",
    "    model.eval()  # Set model to evaluation mode\n",
    "    total_loss = 0\n",
    "    correct = 0\n",
    "    total = 0\n",
    "\n",
    "    with torch.no_grad():  # Disable gradient computation\n",
    "        for images, labels in dataloader:\n",
    "            images, labels = images.to(device), labels.to(device)\n",
    "\n",
    "            outputs = model(images)  # Forward pass\n",
    "            loss = criterion(outputs, labels)  # Compute loss\n",
    "            total_loss += loss.item()\n",
    "\n",
    "            # Compute accuracy\n",
    "            outputs = torch.softmax(outputs, dim=1)\n",
    "            predictions = outputs.argmax(dim=1)  # Get predicted class\n",
    "            correct += (predictions == labels).sum().item()\n",
    "            total += labels.size(0)\n",
    "\n",
    "    avg_loss = total_loss / len(dataloader)\n",
    "    accuracy = 100 * correct / total  # Compute accuracy in percentage\n",
    "    return avg_loss, accuracy\n"
   ],
   "outputs": [],
   "execution_count": null
  },
  {
   "cell_type": "markdown",
   "metadata": {},
   "source": [
    "## 4️⃣ Running Training"
   ]
  },
  {
   "cell_type": "code",
   "metadata": {
    "execution": {
     "iopub.execute_input": "2025-02-04T11:49:43.880793Z",
     "iopub.status.busy": "2025-02-04T11:49:43.880458Z",
     "iopub.status.idle": "2025-02-04T11:51:27.135883Z",
     "shell.execute_reply": "2025-02-04T11:51:27.134903Z",
     "shell.execute_reply.started": "2025-02-04T11:49:43.880767Z"
    },
    "trusted": true
   },
   "source": [
    "import torch.optim as optim\n",
    "\n",
    "# Initialize the model\n",
    "device = torch.device(\"cuda\" if torch.cuda.is_available() else \"cpu\")\n",
    "model = CNNModel().to(device)\n",
    "\n",
    "# Define loss function and optimizer\n",
    "criterion = nn.CrossEntropyLoss()  # Multi-class Classification loss (Input: Logits, not probabilities)\n",
    "optimizer = optim.Adam(model.parameters(), lr=0.001)  # Adam optimizer\n",
    "num_epochs = 10 # Number of epochs\n",
    "\n",
    "\n",
    "# Lists to store metrics\n",
    "train_losses = []\n",
    "val_losses = []\n",
    "train_accuracies = []\n",
    "val_accuracies = []\n",
    "\n",
    "# Training process\n",
    "for epoch in range(num_epochs):\n",
    "    train_loss, train_accuracy = train_one_epoch(model, train_loader, criterion, optimizer, device)\n",
    "    val_loss, val_accuracy = validate(model, test_loader, criterion, device)\n",
    "\n",
    "    # Store metrics\n",
    "    train_losses.append(train_loss)\n",
    "    val_losses.append(val_loss)\n",
    "    train_accuracies.append(train_accuracy)\n",
    "    val_accuracies.append(val_accuracy)\n",
    "\n",
    "    print(f\"Epoch {epoch+1}/{num_epochs}: \"\n",
    "          f\"Train Loss={train_loss:.4f}, Train Accuracy={train_accuracy:.2f}%, \"\n",
    "          f\"Val Loss={val_loss:.4f}, Val Accuracy={val_accuracy:.2f}%\")\n"
   ],
   "outputs": [],
   "execution_count": null
  },
  {
   "cell_type": "markdown",
   "metadata": {},
   "source": [
    "### Plot loss and some predictions"
   ]
  },
  {
   "cell_type": "code",
   "metadata": {
    "execution": {
     "iopub.execute_input": "2025-02-04T11:51:32.300598Z",
     "iopub.status.busy": "2025-02-04T11:51:32.300195Z",
     "iopub.status.idle": "2025-02-04T11:51:32.668651Z",
     "shell.execute_reply": "2025-02-04T11:51:32.667349Z",
     "shell.execute_reply.started": "2025-02-04T11:51:32.300561Z"
    },
    "trusted": true
   },
   "source": [
    "import matplotlib.pyplot as plt\n",
    "\n",
    "# Plot loss curve\n",
    "plt.figure(figsize=(12, 5))\n",
    "plt.subplot(1, 2, 1)\n",
    "plt.plot(range(1, num_epochs+1), train_losses, label=\"Train Loss\", marker='o')\n",
    "plt.plot(range(1, num_epochs+1), val_losses, label=\"Validation Loss\", marker='o')\n",
    "plt.xlabel(\"Epochs\")\n",
    "plt.ylabel(\"Loss\")\n",
    "plt.title(\"Loss Curve\")\n",
    "plt.legend()\n",
    "\n",
    "# Plot accuracy curve\n",
    "plt.subplot(1, 2, 2)\n",
    "plt.plot(range(1, num_epochs+1), train_accuracies, label=\"Train Accuracy\", marker='o')\n",
    "plt.plot(range(1, num_epochs+1), val_accuracies, label=\"Validation Accuracy\", marker='o')\n",
    "plt.xlabel(\"Epochs\")\n",
    "plt.ylabel(\"Accuracy (%)\")\n",
    "plt.title(\"Accuracy Curve\")\n",
    "plt.legend()\n",
    "\n",
    "plt.show()\n"
   ],
   "outputs": [],
   "execution_count": null
  },
  {
   "cell_type": "code",
   "metadata": {
    "execution": {
     "iopub.execute_input": "2025-02-04T11:51:37.514990Z",
     "iopub.status.busy": "2025-02-04T11:51:37.514685Z",
     "iopub.status.idle": "2025-02-04T11:51:38.295153Z",
     "shell.execute_reply": "2025-02-04T11:51:38.294107Z",
     "shell.execute_reply.started": "2025-02-04T11:51:37.514968Z"
    },
    "trusted": true
   },
   "source": [
    "import matplotlib.pyplot as plt\n",
    "import numpy as np\n",
    "\n",
    "# Function to display images with predicted labels\n",
    "def show_predictions(model, dataloader, device, num_images=10):\n",
    "    model.eval()  # Set to evaluation mode\n",
    "    images, labels = next(iter(dataloader))  # Get a batch\n",
    "    images, labels = images.to(device), labels.to(device)\n",
    "\n",
    "    with torch.no_grad():  # Disable gradient computation\n",
    "        outputs = model(images)\n",
    "        predictions = outputs.argmax(dim=1)  # Get predicted class\n",
    "\n",
    "    # CIFAR-10 class names\n",
    "    classes = ['Airplane', 'Automobile', 'Bird', 'Cat', 'Deer',\n",
    "               'Dog', 'Frog', 'Horse', 'Ship', 'Truck']\n",
    "\n",
    "    # Plot images with predictions\n",
    "    fig, axes = plt.subplots(2, 5, figsize=(10, 5))\n",
    "    for i, ax in enumerate(axes.flat[:num_images]):\n",
    "        img = images[i]\n",
    "        img = np.transpose(img.cpu().numpy(), (1, 2, 0))  # Convert to (H, W, C)\n",
    "\n",
    "        ax.imshow(img)\n",
    "        ax.set_title(f\"Pred: {classes[predictions[i].item()]}\\nTrue: {classes[labels[i].item()]}\")\n",
    "        ax.axis(\"off\")\n",
    "\n",
    "    plt.show()\n",
    "\n",
    "# Show predictions\n",
    "show_predictions(model, test_loader, device)\n"
   ],
   "outputs": [],
   "execution_count": null
  },
  {
   "cell_type": "markdown",
   "metadata": {},
   "source": [
    "### Contributed by: Mohamed Eltayeb"
   ]
  },
  {
   "cell_type": "markdown",
   "metadata": {},
   "source": [
    "![image.png](https://i.imgur.com/a3uAqnb.png)"
   ]
  }
 ],
 "metadata": {
  "accelerator": "GPU",
  "colab": {
   "authorship_tag": "ABX9TyOQG0TCXOQMpleeyT89R+iD",
   "gpuType": "T4",
   "provenance": []
  },
  "kaggle": {
   "accelerator": "gpu",
   "dataSources": [],
   "dockerImageVersionId": 30840,
   "isGpuEnabled": true,
   "isInternetEnabled": true,
   "language": "python",
   "sourceType": "notebook"
  },
  "kernelspec": {
   "display_name": "Python 3",
   "language": "python",
   "name": "python3"
  },
  "language_info": {
   "codemirror_mode": {
    "name": "ipython",
    "version": 3
   },
   "file_extension": ".py",
   "mimetype": "text/x-python",
   "name": "python",
   "nbconvert_exporter": "python",
   "pygments_lexer": "ipython3",
   "version": "3.10.12"
  }
 },
 "nbformat": 4,
 "nbformat_minor": 4
}
