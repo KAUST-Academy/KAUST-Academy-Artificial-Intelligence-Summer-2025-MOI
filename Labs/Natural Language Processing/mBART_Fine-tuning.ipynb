{
 "cells": [
  {
   "cell_type": "markdown",
   "id": "b04f80940689c1ca",
   "metadata": {},
   "source": [
    "![image.png](https://i.imgur.com/a3uAqnb.png)"
   ]
  },
  {
   "cell_type": "markdown",
   "id": "16e0fba964379bbd",
   "metadata": {},
   "source": [
    "# Bidirectional Arabic-English Translation using mBART\n",
    "- **Model**: Facebook's mBART-large-50-one-to-many-mmt pre-trained transformer\n",
    "- **Languages**: Arabic (ar_AR) ↔ English (en_XX) bidirectional translation\n",
    "- **Dataset**: Classic Arabic-English Language Pairs from HuggingFace\n",
    "- **Approach**: Fine-tuning with data augmentation (random language swapping)\n",
    "\n",
    "![mBART Architecture](https://i.imgur.com/n8WXfHG.png)\n",
    "\n",
    "## **🔹 What is mBART?**\n",
    "**mBART** (Multilingual Bidirectional Auto-Regressive Transformer) is a sequence-to-sequence model pre-trained on 50+ languages. It's particularly effective for:\n",
    "- **Machine Translation** between multiple language pairs\n",
    "- **Cross-lingual understanding** using shared representations\n",
    "- **Few-shot learning** on new language pairs"
   ]
  },
  {
   "cell_type": "markdown",
   "id": "727b46d6cd2f9ed4",
   "metadata": {},
   "source": [
    "## 📦 Package Installation & Setup\n",
    "Installing required packages for transformer fine-tuning and evaluation."
   ]
  },
  {
   "cell_type": "code",
   "execution_count": 1,
   "id": "7450c6b8757eb7f3",
   "metadata": {
    "ExecuteTime": {
     "end_time": "2025-07-05T02:53:12.452261Z",
     "start_time": "2025-07-05T02:53:12.449994Z"
    }
   },
   "outputs": [],
   "source": [
    "from IPython.display import clear_output"
   ]
  },
  {
   "cell_type": "code",
   "execution_count": 2,
   "id": "initial_id",
   "metadata": {},
   "outputs": [],
   "source": [
    "# Essential packages for transformer fine-tuning\n",
    "# %pip install gdown          # For downloading datasets from Google Drive\n",
    "# %pip install evaluate       # For computing BLEU scores\n",
    "# %pip install pandas         # For data manipulation\n",
    "# %pip install sentencepiece  # Required for mBART tokenizer\n",
    "# %pip install accelerate     # For distributed training support\n",
    "# %pip install protobuf==3.20.3  # Specific version to avoid conflicts\n",
    "# %pip install matplotlib     # For plotting training curves\n",
    "# %pip install transformers datasets  # HuggingFace transformers and datasets\n",
    "# %pip install torch torchdata --quiet  # PyTorch framework\n",
    "# %pip install tqdm          # Progress bars for training loops\n",
    "# %pip install scikit-learn  # For train-test splitting\n",
    "\n",
    "clear_output()  # Clear installation output for cleaner notebook"
   ]
  },
  {
   "cell_type": "markdown",
   "id": "9cb5bd25f82266d5",
   "metadata": {},
   "source": [
    "## 🔧 Import Required Libraries\n",
    "Loading all necessary libraries for data processing, model training, and evaluation."
   ]
  },
  {
   "cell_type": "code",
   "execution_count": 3,
   "id": "10ee6d3bed22c1ca",
   "metadata": {
    "ExecuteTime": {
     "end_time": "2025-07-05T02:53:36.375866Z",
     "start_time": "2025-07-05T02:53:30.585948Z"
    }
   },
   "outputs": [
    {
     "data": {
      "text/plain": [
       "<torch._C.Generator at 0x7f5fd54bb7b0>"
      ]
     },
     "execution_count": 3,
     "metadata": {},
     "output_type": "execute_result"
    }
   ],
   "source": [
    "# Core libraries\n",
    "import math\n",
    "import random\n",
    "import json\n",
    "\n",
    "# Data handling and processing\n",
    "import pandas as pd\n",
    "from datasets import Dataset\n",
    "from sklearn.model_selection import train_test_split\n",
    "\n",
    "# HuggingFace transformers\n",
    "from transformers import (\n",
    "    GenerationConfig,\n",
    "    TrainingArguments,\n",
    "    Trainer,\n",
    "    TrainerCallback,\n",
    "    MBartForConditionalGeneration,\n",
    "    MBart50TokenizerFast,\n",
    "    MBart50Tokenizer\n",
    ")\n",
    "\n",
    "# PyTorch\n",
    "import torch\n",
    "\n",
    "# Evaluation and visualization\n",
    "import evaluate\n",
    "from tqdm import tqdm\n",
    "import matplotlib.pyplot as plt\n",
    "\n",
    "# Set random seeds for reproducibility\n",
    "random.seed(7)\n",
    "torch.manual_seed(7)"
   ]
  },
  {
   "cell_type": "markdown",
   "id": "853dd99c89aa59a4",
   "metadata": {},
   "source": [
    "## 🗂️ Dataset Loading and Exploration\n",
    "\n",
    "We'll use the **Classic Arabic-English Language Pairs** dataset, which contains:\n",
    "- **Arabic sentences** (Classical Arabic text)\n",
    "- **English translations** (Modern English equivalents)\n",
    "- **Domain**: Religious and classical texts\n",
    "\n",
    "### Dataset Structure\n",
    "- **Source**: HuggingFace datasets\n",
    "- **Split**: Books collection with paired sentences\n",
    "- **Format**: Each row contains Arabic and English sentence pairs"
   ]
  },
  {
   "cell_type": "code",
   "execution_count": 4,
   "id": "1d78ee1a4ef3048b",
   "metadata": {
    "ExecuteTime": {
     "start_time": "2025-07-05T02:54:01.446197Z"
    },
    "jupyter": {
     "is_executing": true
    }
   },
   "outputs": [
    {
     "name": "stdout",
     "output_type": "stream",
     "text": [
      "📊 Dataset Information:\n",
      "Dataset keys: ['quran', 'hadith', 'books']\n",
      "Number of examples: 13331\n"
     ]
    }
   ],
   "source": [
    "from datasets import load_dataset\n",
    "\n",
    "# Load the Arabic-English translation dataset\n",
    "# This dataset contains classical Arabic texts with English translations\n",
    "dataset = load_dataset(\"Abdulmohsena/Classic-Arabic-English-Language-Pairs\")\n",
    "\n",
    "print(\"📊 Dataset Information:\")\n",
    "print(f\"Dataset keys: {list(dataset.keys())}\")\n",
    "print(f\"Number of examples: {len(dataset['books'])}\")"
   ]
  },
  {
   "cell_type": "code",
   "execution_count": 5,
   "id": "759a4d5ea8a8ae63",
   "metadata": {},
   "outputs": [
    {
     "name": "stdout",
     "output_type": "stream",
     "text": [
      "🔍 Dataset Structure:\n",
      "DatasetDict({\n",
      "    quran: Dataset({\n",
      "        features: ['ar', 'en'],\n",
      "        num_rows: 9474\n",
      "    })\n",
      "    hadith: Dataset({\n",
      "        features: ['ar', 'en'],\n",
      "        num_rows: 4107\n",
      "    })\n",
      "    books: Dataset({\n",
      "        features: ['ar', 'en'],\n",
      "        num_rows: 13331\n",
      "    })\n",
      "})\n",
      "\n",
      "📝 Sample Data:\n",
      "\n",
      "Example 1:\n",
      "English: [Chapter on entering upon kings] [Entering of the nobles] If the one entering is from the nobles and the high class, then it is the right of the king to stand in a place where he is not far from him, nor close to him, and to greet him while standing.\n",
      "Arabic: [باب في الدخول على الملوك] [دخول الأشراف] إن كان الداخل من الأشراف والطبقة العالية، فمن حق الملك أن يقف منه بالموضع الذي لا ينأى عنه، ولا يقرب منه، وأن يسلم عليه قائما.\n",
      "\n",
      "Example 2:\n",
      "English: If he approached him, he would come close to him, lean on his limbs and kiss them, then move away from him and stand until he stands at a level like his.\n",
      "Arabic: فإن استدناه، قرب منه، فأكب على أطرافه يقبلها، ثم تنحى عنه قائما، حتى يقف في مرتبة مثله.\n",
      "\n",
      "Example 3:\n",
      "English: If he signals to him to sit, he sits.\n",
      "Arabic: فإن أومأ إليه بالقعود، قعد.\n"
     ]
    }
   ],
   "source": [
    "# Explore the dataset structure\n",
    "print(\"🔍 Dataset Structure:\")\n",
    "print(dataset)\n",
    "\n",
    "# Check the first few examples to understand the data format\n",
    "sample_data = dataset['books'][:3]\n",
    "print(\"\\n📝 Sample Data:\")\n",
    "for i, example in enumerate(sample_data['en'][:3]):\n",
    "    print(f\"\\nExample {i+1}:\")\n",
    "    print(f\"English: {example}\")\n",
    "    print(f\"Arabic: {sample_data['ar'][i]}\")"
   ]
  },
  {
   "cell_type": "code",
   "execution_count": 6,
   "id": "50b489542024b0a7",
   "metadata": {},
   "outputs": [
    {
     "name": "stdout",
     "output_type": "stream",
     "text": [
      "🖥️ Using device: cuda\n",
      "GPU Name: Tesla V100-SXM2-32GB\n",
      "GPU Memory: 34.1 GB\n"
     ]
    }
   ],
   "source": [
    "# Set random seed for reproducibility\n",
    "random.seed(7)\n",
    "\n",
    "# Check for GPU availability and set device\n",
    "device = 'cuda' if torch.cuda.is_available() else 'cpu'\n",
    "print(f\"🖥️ Using device: {device}\")\n",
    "\n",
    "# Display GPU information if available\n",
    "if torch.cuda.is_available():\n",
    "    print(f\"GPU Name: {torch.cuda.get_device_name(0)}\")\n",
    "    print(f\"GPU Memory: {torch.cuda.get_device_properties(0).total_memory / 1e9:.1f} GB\")"
   ]
  },
  {
   "cell_type": "markdown",
   "id": "4d827019-531b-476b-8c2d-a8336a716c52",
   "metadata": {},
   "source": [
    "## 🔄 Data Preprocessing and Splitting\r\n",
    "\r\n",
    "We'll prepare the data for training by:\r\n",
    "1. **Converting** HuggingFace dataset to pandas DataFrame\r\n",
    "2. **Splitting** into train/test sets (80/20 split)\r\n",
    "3. **Limiting** dataset size for efficient training (5K train, 1K test)\r\n",
    "4. **Creating** HuggingFace Dataset objects for the Trainer API"
   ]
  },
  {
   "cell_type": "code",
   "execution_count": 7,
   "id": "fa24ee3b-f57a-4d82-9552-ba9a3df0d186",
   "metadata": {},
   "outputs": [
    {
     "name": "stdout",
     "output_type": "stream",
     "text": [
      "📊 Dataset Sizes:\n",
      "Training data shape: (5000, 2)\n",
      "Testing data shape: (1000, 2)\n",
      "Total examples: 6000\n"
     ]
    }
   ],
   "source": [
    "from sklearn.model_selection import train_test_split\n",
    "\n",
    "# Convert HuggingFace dataset to pandas DataFrame for easier manipulation\n",
    "train_data = pd.DataFrame(dataset['books'])\n",
    "\n",
    "# Split data into train and test sets (80/20 split)\n",
    "train_data_full, test_data = train_test_split(\n",
    "    train_data, \n",
    "    test_size=0.2, \n",
    "    random_state=42\n",
    ")\n",
    "\n",
    "# Limit dataset size for efficient training\n",
    "# Using smaller subsets to reduce training time while maintaining quality\n",
    "train_data = train_data_full.head(5000)  # 5K training examples\n",
    "test_data = test_data.head(1000)         # 1K testing examples\n",
    "\n",
    "print(f\"📊 Dataset Sizes:\")\n",
    "print(f\"Training data shape: {train_data.shape}\")\n",
    "print(f\"Testing data shape: {test_data.shape}\")\n",
    "print(f\"Total examples: {len(train_data) + len(test_data)}\")"
   ]
  },
  {
   "cell_type": "code",
   "execution_count": 8,
   "id": "52157bfa-0e90-419e-86d3-938cbe7eecbe",
   "metadata": {},
   "outputs": [
    {
     "name": "stdout",
     "output_type": "stream",
     "text": [
      "📋 Sample Training Data:\n"
     ]
    },
    {
     "data": {
      "text/html": [
       "<div>\n",
       "<style scoped>\n",
       "    .dataframe tbody tr th:only-of-type {\n",
       "        vertical-align: middle;\n",
       "    }\n",
       "\n",
       "    .dataframe tbody tr th {\n",
       "        vertical-align: top;\n",
       "    }\n",
       "\n",
       "    .dataframe thead th {\n",
       "        text-align: right;\n",
       "    }\n",
       "</style>\n",
       "<table border=\"1\" class=\"dataframe\">\n",
       "  <thead>\n",
       "    <tr style=\"text-align: right;\">\n",
       "      <th></th>\n",
       "      <th>ar</th>\n",
       "      <th>en</th>\n",
       "    </tr>\n",
       "  </thead>\n",
       "  <tbody>\n",
       "    <tr>\n",
       "      <th>9689</th>\n",
       "      <td>ولما عقل نفسه كان عاقلا، ولما كان نفسه معقولا ...</td>\n",
       "      <td>And since he understood himself, he was ration...</td>\n",
       "    </tr>\n",
       "    <tr>\n",
       "      <th>7436</th>\n",
       "      <td>من ذلك قولهم: ضربه على أم رأسه، وكذلك أم الهاوية.</td>\n",
       "      <td>This includes their saying: He hit him on the ...</td>\n",
       "    </tr>\n",
       "    <tr>\n",
       "      <th>1082</th>\n",
       "      <td>لأن هذه الأقسام الثلاثة أكثر ما تقع وتتفق بسؤا...</td>\n",
       "      <td>Because these three sections most often occur ...</td>\n",
       "    </tr>\n",
       "    <tr>\n",
       "      <th>1671</th>\n",
       "      <td>ولكني أسألك أيها الملك حاجة تسعفني بها، وتعطين...</td>\n",
       "      <td>But I ask you, O King, for a need that you may...</td>\n",
       "    </tr>\n",
       "    <tr>\n",
       "      <th>12394</th>\n",
       "      <td>قوله: وأتت العضل العريضة الحنجرية التي رؤوسها ...</td>\n",
       "      <td>His saying: “And the broad laryngeal muscles w...</td>\n",
       "    </tr>\n",
       "  </tbody>\n",
       "</table>\n",
       "</div>"
      ],
      "text/plain": [
       "                                                      ar  \\\n",
       "9689   ولما عقل نفسه كان عاقلا، ولما كان نفسه معقولا ...   \n",
       "7436   من ذلك قولهم: ضربه على أم رأسه، وكذلك أم الهاوية.   \n",
       "1082   لأن هذه الأقسام الثلاثة أكثر ما تقع وتتفق بسؤا...   \n",
       "1671   ولكني أسألك أيها الملك حاجة تسعفني بها، وتعطين...   \n",
       "12394  قوله: وأتت العضل العريضة الحنجرية التي رؤوسها ...   \n",
       "\n",
       "                                                      en  \n",
       "9689   And since he understood himself, he was ration...  \n",
       "7436   This includes their saying: He hit him on the ...  \n",
       "1082   Because these three sections most often occur ...  \n",
       "1671   But I ask you, O King, for a need that you may...  \n",
       "12394  His saying: “And the broad laryngeal muscles w...  "
      ]
     },
     "metadata": {},
     "output_type": "display_data"
    },
    {
     "name": "stdout",
     "output_type": "stream",
     "text": [
      "\n",
      "🔍 Missing Values Check:\n",
      "English missing: 0\n",
      "Arabic missing: 0\n"
     ]
    }
   ],
   "source": [
    "# Display sample of the training data to verify structure\n",
    "print(\"📋 Sample Training Data:\")\n",
    "display(train_data.head())\n",
    "\n",
    "# Check for any missing values\n",
    "print(f\"\\n🔍 Missing Values Check:\")\n",
    "print(f\"English missing: {train_data['en'].isnull().sum()}\")\n",
    "print(f\"Arabic missing: {train_data['ar'].isnull().sum()}\")"
   ]
  },
  {
   "cell_type": "code",
   "execution_count": 9,
   "id": "c89c94ab-b95f-4caa-ac0d-de9202ab7086",
   "metadata": {},
   "outputs": [
    {
     "name": "stdout",
     "output_type": "stream",
     "text": [
      "✅ Created HuggingFace Datasets:\n",
      "Train dataset: Dataset({\n",
      "    features: ['ar', 'en', '__index_level_0__'],\n",
      "    num_rows: 5000\n",
      "})\n",
      "Test dataset: Dataset({\n",
      "    features: ['ar', 'en', '__index_level_0__'],\n",
      "    num_rows: 1000\n",
      "})\n"
     ]
    }
   ],
   "source": [
    "# Convert pandas DataFrames to HuggingFace Dataset objects\n",
    "# This format is required for the HuggingFace Trainer API\n",
    "train_dataset = Dataset.from_pandas(train_data, split='train')\n",
    "test_dataset = Dataset.from_pandas(test_data, split='test')\n",
    "\n",
    "print(f\"✅ Created HuggingFace Datasets:\")\n",
    "print(f\"Train dataset: {train_dataset}\")\n",
    "print(f\"Test dataset: {test_dataset}\")"
   ]
  },
  {
   "cell_type": "markdown",
   "id": "99422947-8add-443f-be86-2d08a065eb68",
   "metadata": {},
   "source": [
    "## 🤖 Model and Tokenizer Setup\r\n",
    "\r\n",
    "### Loading Pre-trained mBART Model\r\n",
    "- **Model**: `facebook/mbart-large-50-one-to-many-mmt`\r\n",
    "- **Languages Supported**: 50+ languages including Arabic and English\r\n",
    "- **Architecture**: Encoder-decoder transformer optimized for translation\r\n",
    "- **Pre-training**: Multilingual denoising autoencoder training\r\n",
    "\r\n",
    "### Language Codes Used:\r\n",
    "- **English**: `en_XX`\r\n",
    "- **Arabic**: `ar_AR`"
   ]
  },
  {
   "cell_type": "code",
   "execution_count": 10,
   "id": "20cd2b75-923f-483e-9ae9-a095c9b3eda0",
   "metadata": {},
   "outputs": [
    {
     "name": "stdout",
     "output_type": "stream",
     "text": [
      "🔄 Loading pre-trained mBART model...\n",
      "✅ Model loaded successfully!\n",
      "Model parameters: 610,879,488\n",
      "Tokenizer vocabulary size: 250054\n"
     ]
    }
   ],
   "source": [
    "from transformers import MBartForConditionalGeneration, MBart50Tokenizer\n",
    "\n",
    "# Load pre-trained mBART model and tokenizer\n",
    "# Using the one-to-many variant which is more efficient for bidirectional translation\n",
    "model_name = 'facebook/mbart-large-50-one-to-many-mmt'\n",
    "\n",
    "print(\"🔄 Loading pre-trained mBART model...\")\n",
    "model = MBartForConditionalGeneration.from_pretrained(model_name)\n",
    "tokenizer = MBart50Tokenizer.from_pretrained(model_name)\n",
    "\n",
    "print(f\"✅ Model loaded successfully!\")\n",
    "print(f\"Model parameters: {model.num_parameters():,}\")\n",
    "print(f\"Tokenizer vocabulary size: {len(tokenizer)}\")"
   ]
  },
  {
   "cell_type": "markdown",
   "id": "88dcbc53-8ad5-4a75-a26b-fd05702bd03b",
   "metadata": {},
   "source": [
    "## 🔤 Tokenization and Data Augmentation\r\n",
    "\r\n",
    "### Key Components:\r\n",
    "1. **Language Code Mapping**: Convert `en`/`ar` to mBART tokens (`en_XX`/`ar_AR`)\r\n",
    "2. **Bidirectional Augmentation**: Randomly swap source/target languages\r\n",
    "3. **Proper Tokenization**: Handle source language setting for tokenizer\r\n",
    "4. **Padding & Truncation**: Ensure consistent sequence lengths\r\n",
    "\r\n",
    "### Data Augmentation Strategy:\r\n",
    "- **50% of examples**: English → Arabic\r\n",
    "- **50% of examples**: Arabic → English\r\n",
    "- This creates a balanced bidirectional dataset"
   ]
  },
  {
   "cell_type": "code",
   "execution_count": 23,
   "id": "64f6341c-7b36-4217-8ff2-17551fbf10a4",
   "metadata": {},
   "outputs": [],
   "source": [
    "def get_lang_code(language):\n",
    "    \"\"\"\n",
    "    Convert simple language codes to mBART-specific language tokens.\n",
    "    \n",
    "    Args:\n",
    "        language (str): 'en' or 'ar'\n",
    "    \n",
    "    Returns:\n",
    "        str: mBART language code ('en_XX' or 'ar_AR')\n",
    "    \"\"\"\n",
    "    lang_map = {\n",
    "        'en': 'en_XX',  # English language code for mBART\n",
    "        'ar': 'ar_AR'   # Arabic language code for mBART\n",
    "    }\n",
    "    return lang_map.get(language.lower(), 'en_XX')\n",
    "\n",
    "def get_apt_tokenizer(src_language):\n",
    "    \"\"\"\n",
    "    Configure tokenizer with appropriate source language setting.\n",
    "    \n",
    "    Args:\n",
    "        src_language (str): Source language ('en' or 'ar')\n",
    "    \n",
    "    Returns:\n",
    "        tokenizer: Configured tokenizer object\n",
    "    \"\"\"\n",
    "    lang_code = get_lang_code(src_language)\n",
    "    tokenizer.src_lang = lang_code\n",
    "    return tokenizer\n",
    "\n",
    "def tokenize_function(rows):\n",
    "    \"\"\"\n",
    "    Tokenize input data with bidirectional data augmentation.\n",
    "    \n",
    "    This function:\n",
    "    1. Randomly selects translation direction (en→ar or ar→en)\n",
    "    2. Tokenizes source text with proper language codes\n",
    "    3. Tokenizes target text as labels\n",
    "    4. Applies padding and truncation\n",
    "    \n",
    "    Args:\n",
    "        rows (dict): Batch of data containing 'en' and 'ar' keys\n",
    "    \n",
    "    Returns:\n",
    "        dict: Tokenized data with input_ids, attention_mask, and labels\n",
    "    \"\"\"\n",
    "    # Start with English to Arabic as default\n",
    "    src_language = 'en'\n",
    "    tgt_language = 'ar'\n",
    "\n",
    "    # 🎲 Data Augmentation: Randomly swap source and target languages\n",
    "    # This creates a balanced bidirectional training dataset\n",
    "    if random.randint(0, 1) == 1:\n",
    "        src_language, tgt_language = tgt_language, src_language\n",
    "\n",
    "    # Get mBART language codes\n",
    "    src_lang_code = get_lang_code(src_language)\n",
    "    tgt_lang_code = get_lang_code(tgt_language)\n",
    "    \n",
    "    # Set source language for tokenizer\n",
    "    tokenizer.src_lang = src_lang_code\n",
    "    \n",
    "    # Prepare input prompts (currently no special prompting)\n",
    "    start_prompt = ''\n",
    "    end_prompt = ''\n",
    "    prompt = [start_prompt + row + end_prompt for row in rows[src_language]]\n",
    "    \n",
    "    # 🔤 Tokenize input text (source language)\n",
    "    encoding = tokenizer(\n",
    "        prompt, \n",
    "        padding=\"max_length\", \n",
    "        truncation=True, \n",
    "        return_tensors=\"pt\", \n",
    "        max_length=256  # Maximum sequence length\n",
    "    )\n",
    "    \n",
    "    # 🔤 Tokenize target text (labels)\n",
    "    tokenizer.src_lang = tgt_lang_code  # Set target language for proper tokenization\n",
    "    labels = tokenizer(\n",
    "        rows[tgt_language], \n",
    "        padding=\"max_length\", \n",
    "        truncation=True, \n",
    "        return_tensors=\"pt\", \n",
    "        max_length=256\n",
    "    )\n",
    "    \n",
    "    # ✅ Convert tensors to lists for HuggingFace datasets compatibility\n",
    "    # The trainer will convert them back to tensors during training\n",
    "    return {\n",
    "        'input_ids': encoding.input_ids.tolist(),\n",
    "        'attention_mask': encoding.attention_mask.tolist(),\n",
    "        'labels': labels.input_ids.tolist()\n",
    "    }"
   ]
  },
  {
   "cell_type": "markdown",
   "id": "363e3745-ff76-4b17-893e-b6deefd9f40c",
   "metadata": {},
   "source": [
    "## ⚙️ Applying Tokenization to Datasets\r\n",
    "\r\n",
    "Now we'll apply our tokenization function to both training and testing datasets. This process:\r\n",
    "- Converts text to numerical tokens\r\n",
    "- Applies bidirectional data augmentation\r\n",
    "- Creates properly formatted inputs for the model"
   ]
  },
  {
   "cell_type": "code",
   "execution_count": 24,
   "id": "e30a2a4f-90a1-49ff-8707-de89c0106e3b",
   "metadata": {},
   "outputs": [
    {
     "data": {
      "application/vnd.jupyter.widget-view+json": {
       "model_id": "d4c0cb941b31452c85f8a1f60b590edf",
       "version_major": 2,
       "version_minor": 0
      },
      "text/plain": [
       "Tokenizing training data:   0%|          | 0/5000 [00:00<?, ? examples/s]"
      ]
     },
     "metadata": {},
     "output_type": "display_data"
    },
    {
     "data": {
      "application/vnd.jupyter.widget-view+json": {
       "model_id": "c7b9789ecec24d8599baae3e2d8dd521",
       "version_major": 2,
       "version_minor": 0
      },
      "text/plain": [
       "Tokenizing test data:   0%|          | 0/1000 [00:00<?, ? examples/s]"
      ]
     },
     "metadata": {},
     "output_type": "display_data"
    },
    {
     "name": "stdout",
     "output_type": "stream",
     "text": [
      "✅ Tokenization completed!\n",
      "Tokenized train dataset: Dataset({\n",
      "    features: ['input_ids', 'attention_mask', 'labels'],\n",
      "    num_rows: 5000\n",
      "})\n",
      "Tokenized test dataset: Dataset({\n",
      "    features: ['input_ids', 'attention_mask', 'labels'],\n",
      "    num_rows: 1000\n",
      "})\n",
      "Train dataset columns: ['input_ids', 'attention_mask', 'labels']\n",
      "Test dataset columns: ['input_ids', 'attention_mask', 'labels']\n"
     ]
    }
   ],
   "source": [
    "# Apply tokenization to training dataset\n",
    "tokenized_train_dataset = train_dataset.map(\n",
    "    tokenize_function, \n",
    "    batched=True,\n",
    "    desc=\"Tokenizing training data\"\n",
    ")\n",
    "\n",
    "# Apply tokenization to test dataset\n",
    "tokenized_test_dataset = test_dataset.map(\n",
    "    tokenize_function, \n",
    "    batched=True,\n",
    "    desc=\"Tokenizing test data\"\n",
    ")\n",
    "\n",
    "# 🔧 IMPORTANT: Remove columns that contain raw text to avoid training errors\n",
    "# Keep only the columns needed for training: input_ids, attention_mask, labels\n",
    "columns_to_remove = ['en', 'ar', 'src_language', 'prompt', '__index_level_0__']\n",
    "\n",
    "# Remove unnecessary columns from training dataset\n",
    "for col in columns_to_remove:\n",
    "    if col in tokenized_train_dataset.column_names:\n",
    "        tokenized_train_dataset = tokenized_train_dataset.remove_columns([col])\n",
    "\n",
    "# Remove unnecessary columns from test dataset  \n",
    "for col in columns_to_remove:\n",
    "    if col in tokenized_test_dataset.column_names:\n",
    "        tokenized_test_dataset = tokenized_test_dataset.remove_columns([col])\n",
    "\n",
    "print(\"✅ Tokenization completed!\")\n",
    "print(f\"Tokenized train dataset: {tokenized_train_dataset}\")\n",
    "print(f\"Tokenized test dataset: {tokenized_test_dataset}\")\n",
    "print(f\"Train dataset columns: {tokenized_train_dataset.column_names}\")\n",
    "print(f\"Test dataset columns: {tokenized_test_dataset.column_names}\")"
   ]
  },
  {
   "cell_type": "markdown",
   "id": "d8b1359b-0876-4a70-b021-52fdeabc8d88",
   "metadata": {},
   "source": [
    "## 🔍 Verifying Tokenization\n",
    "\n",
    "Let's examine a tokenized example to ensure our tokenization process works correctly:\n",
    "- Check source language assignment\n",
    "- Verify input and label tokenization\n",
    "- Confirm bidirectional augmentation is working"
   ]
  },
  {
   "cell_type": "code",
   "execution_count": 25,
   "id": "4e306a21-ad1c-43d5-81db-de3394d97805",
   "metadata": {},
   "outputs": [
    {
     "name": "stdout",
     "output_type": "stream",
     "text": [
      "🔍 Tokenization Verification:\n",
      "Original English text: He apologized to him and said: The monkeys do not own anything, but sit down until I come to you.\n",
      "Original Arabic text: واعتذر إليه، وقال: إن القرود لا يملكون شيئا، ولكن اقعد حتى آتيك.\n",
      "\n",
      "📥 Tokenized Input (first 10 tokens):\n",
      "Input IDs length: 256\n",
      "Input IDs (first 10): [250004, 1529, 1747, 14071, 29367, 47, 4049, 136, 2804, 12]\n",
      "\n",
      "📤 Tokenized Labels (first 10 tokens):\n",
      "Labels length: 256\n",
      "Labels (first 10): [250001, 3138, 11429, 31687, 42364, 50, 18789, 12, 5202, 51218]\n",
      "\n",
      "🔢 Attention mask length: 256\n",
      "Attention mask (first 10): [1, 1, 1, 1, 1, 1, 1, 1, 1, 1]\n",
      "\n",
      "✅ Dataset columns after cleaning: ['input_ids', 'attention_mask', 'labels']\n",
      "\n",
      "🔍 Data Types:\n",
      "Input IDs type: <class 'list'>\n",
      "Labels type: <class 'list'>\n",
      "Attention mask type: <class 'list'>\n"
     ]
    }
   ],
   "source": [
    "# We need to get an example differently since we removed the original text columns\n",
    "# Let's get the original data for verification\n",
    "original_test_example = test_dataset[3]  # Get from original dataset\n",
    "tokenized_example = tokenized_test_dataset[3]  # Get from tokenized dataset\n",
    "\n",
    "print(\"🔍 Tokenization Verification:\")\n",
    "print(f\"Original English text: {original_test_example['en']}\")\n",
    "print(f\"Original Arabic text: {original_test_example['ar']}\")\n",
    "print()\n",
    "print(\"📥 Tokenized Input (first 10 tokens):\")\n",
    "print(f\"Input IDs length: {len(tokenized_example['input_ids'])}\")\n",
    "print(f\"Input IDs (first 10): {tokenized_example['input_ids'][:10]}\")\n",
    "print()\n",
    "print(\"📤 Tokenized Labels (first 10 tokens):\")\n",
    "print(f\"Labels length: {len(tokenized_example['labels'])}\")\n",
    "print(f\"Labels (first 10): {tokenized_example['labels'][:10]}\")\n",
    "print()\n",
    "print(\"🔢 Attention mask length:\", len(tokenized_example['attention_mask']))\n",
    "print(f\"Attention mask (first 10): {tokenized_example['attention_mask'][:10]}\")\n",
    "\n",
    "# Verify we only have the necessary columns\n",
    "print(f\"\\n✅ Dataset columns after cleaning: {tokenized_test_dataset.column_names}\")\n",
    "\n",
    "# Check data types\n",
    "print(f\"\\n🔍 Data Types:\")\n",
    "print(f\"Input IDs type: {type(tokenized_example['input_ids'])}\")\n",
    "print(f\"Labels type: {type(tokenized_example['labels'])}\")\n",
    "print(f\"Attention mask type: {type(tokenized_example['attention_mask'])}\")"
   ]
  },
  {
   "cell_type": "code",
   "execution_count": 26,
   "id": "55b64558-370c-47ba-b122-fc4a65d70249",
   "metadata": {},
   "outputs": [
    {
     "name": "stdout",
     "output_type": "stream",
     "text": [
      "🔀 Datasets shuffled successfully!\n",
      "Final training dataset shape: (5000, 3)\n"
     ]
    }
   ],
   "source": [
    "# Shuffle datasets to ensure random distribution during training\n",
    "# This helps prevent overfitting to data ordering patterns\n",
    "tokenized_train_dataset = tokenized_train_dataset.shuffle(seed=13)\n",
    "tokenized_test_dataset = tokenized_test_dataset.shuffle(seed=13)\n",
    "\n",
    "print(\"🔀 Datasets shuffled successfully!\")\n",
    "print(f\"Final training dataset shape: {tokenized_train_dataset.shape}\")"
   ]
  },
  {
   "cell_type": "markdown",
   "id": "f0891017-5569-4d54-903f-7bc2b9ece8f3",
   "metadata": {},
   "source": [
    "## 🧪 Pre-training Model Evaluation\n",
    "\n",
    "Before fine-tuning, let's test the pre-trained model's translation capabilities:\n",
    "- **English → Arabic**: Test with sample English text\n",
    "- **Arabic → English**: Test with sample Arabic text\n",
    "- This establishes baseline performance for comparison"
   ]
  },
  {
   "cell_type": "code",
   "execution_count": 33,
   "id": "57bd9cb8-e953-436b-86f0-8e9445b277e5",
   "metadata": {},
   "outputs": [
    {
     "name": "stdout",
     "output_type": "stream",
     "text": [
      "🔄 Testing English → Arabic translation (pre-trained):\n",
      "Input: He apologized to him and said: The monkeys do not own anything, but sit down until I come to you.\n",
      "Translation: فأعتذر إليه، وقال: إن القردة لا تملك شيئا، إنما تجلس إلى أن آتي إليك.\n"
     ]
    }
   ],
   "source": [
    "# Test English to Arabic translation with pre-trained model\n",
    "sample_english = \"He apologized to him and said: The monkeys do not own anything, but sit down until I come to you.\"\n",
    "\n",
    "print(\"🔄 Testing English → Arabic translation (pre-trained):\")\n",
    "print(f\"Input: {sample_english}\")\n",
    "\n",
    "# Set tokenizer source language to English\n",
    "tokenizer.src_lang = \"en_XX\"\n",
    "\n",
    "# Generate Arabic translation\n",
    "with torch.no_grad():\n",
    "    # Tokenize input text\n",
    "    inputs = tokenizer(sample_english, return_tensors='pt')\n",
    "    \n",
    "    # 🔧 IMPORTANT: Move inputs to the same device as the model\n",
    "    inputs = {k: v.to(device) for k, v in inputs.items()}\n",
    "    \n",
    "    # Generate translation with forced Arabic output\n",
    "    result = model.generate(\n",
    "        **inputs,\n",
    "        forced_bos_token_id=tokenizer.lang_code_to_id[\"ar_AR\"],  # Force Arabic output\n",
    "        max_length=512  # Maximum output length\n",
    "    )\n",
    "    \n",
    "    # Decode the generated tokens\n",
    "    translation = tokenizer.batch_decode(result, skip_special_tokens=True)[0]\n",
    "\n",
    "print(f\"Translation: {translation}\")"
   ]
  },
  {
   "cell_type": "code",
   "execution_count": 34,
   "id": "272a1ea0-2c97-4c26-87f0-33c8bbe6d258",
   "metadata": {},
   "outputs": [
    {
     "name": "stdout",
     "output_type": "stream",
     "text": [
      "🔄 Testing Arabic → English translation (pre-trained):\n",
      "Input: واعتذر إليه، وقال: إن القرود لا يملكون شيئا، ولكن اقعد حتى آتيك.\n",
      "Translation: He agreed to him and said: The crown has nothing to have, but he is deceived until he has got it.\n"
     ]
    }
   ],
   "source": [
    "# Test Arabic to English translation with pre-trained model\n",
    "sample_arabic = \"واعتذر إليه، وقال: إن القرود لا يملكون شيئا، ولكن اقعد حتى آتيك.\"\n",
    "\n",
    "print(\"🔄 Testing Arabic → English translation (pre-trained):\")\n",
    "print(f\"Input: {sample_arabic}\")\n",
    "\n",
    "# Set tokenizer source language to Arabic\n",
    "tokenizer.src_lang = \"ar_AR\"\n",
    "\n",
    "# Generate English translation\n",
    "with torch.no_grad():\n",
    "    # Tokenize input text\n",
    "    inputs = tokenizer(sample_arabic, return_tensors='pt')\n",
    "    \n",
    "    # 🔧 IMPORTANT: Move inputs to the same device as the model\n",
    "    inputs = {k: v.to(device) for k, v in inputs.items()}\n",
    "    \n",
    "    # Generate translation with forced English output\n",
    "    result = model.generate(\n",
    "        **inputs,\n",
    "        forced_bos_token_id=tokenizer.lang_code_to_id[\"en_XX\"],  # Force English output\n",
    "        max_length=512  # Maximum output length\n",
    "    )\n",
    "    \n",
    "    # Decode the generated tokens\n",
    "    translation = tokenizer.batch_decode(result, skip_special_tokens=True)[0]\n",
    "\n",
    "print(f\"Translation: {translation}\")"
   ]
  },
  {
   "cell_type": "markdown",
   "id": "e18023a9-90ca-44d1-bd8c-f7c48d9ffb66",
   "metadata": {},
   "source": [
    "## 🏋️ Training Configuration and Setup\n",
    "\n",
    "### Training Parameters:\n",
    "- **Epochs**: 2 (sufficient for fine-tuning pre-trained model)\n",
    "- **Learning Rate**: 5e-5 (conservative for stable fine-tuning)\n",
    "- **Batch Size**: Auto-detected based on GPU memory\n",
    "- **Evaluation**: After each epoch\n",
    "- **Warmup Steps**: 100 (gradual learning rate increase)\n",
    "\n",
    "### Training Strategy:\n",
    "- **Fine-tuning**: Adjust pre-trained weights rather than training from scratch\n",
    "- **Mixed Precision**: Automatic optimization for faster training\n",
    "- **Gradient Accumulation**: Handled automatically by Trainer"
   ]
  },
  {
   "cell_type": "code",
   "execution_count": 28,
   "id": "44ac5b59-ae92-4f97-8ef8-f5a502b83e52",
   "metadata": {},
   "outputs": [
    {
     "name": "stdout",
     "output_type": "stream",
     "text": [
      "✅ Training configuration completed!\n",
      "Output directory: ./checkpoints/mbart-translator-full-run\n",
      "Training examples: 5000\n",
      "Validation examples: 1000\n"
     ]
    },
    {
     "name": "stderr",
     "output_type": "stream",
     "text": [
      "/tmp/ipykernel_1421368/1792062125.py:27: FutureWarning: `tokenizer` is deprecated and will be removed in version 5.0.0 for `Trainer.__init__`. Use `processing_class` instead.\n",
      "  trainer = Trainer(\n"
     ]
    }
   ],
   "source": [
    "# Initialize lists to store training metrics\n",
    "train_losses = []\n",
    "val_losses = []\n",
    "\n",
    "# Define output directory for model checkpoints\n",
    "output_dir = f'./checkpoints/mbart-translator-full-run'\n",
    "\n",
    "# Configure training arguments\n",
    "training_args = TrainingArguments(\n",
    "    output_dir=output_dir,                    # Directory to save model checkpoints\n",
    "    auto_find_batch_size=True,               # Automatically find optimal batch size\n",
    "    learning_rate=5e-5,                      # Conservative learning rate for fine-tuning\n",
    "    num_train_epochs=2,                      # Number of training epochs\n",
    "    eval_strategy=\"epoch\",                   # Evaluate after each epoch\n",
    "    save_strategy=\"epoch\",                   # Save checkpoint after each epoch\n",
    "    logging_strategy=\"epoch\",                # Log metrics after each epoch\n",
    "    warmup_steps=100,                        # Gradual learning rate warmup\n",
    "    report_to=\"none\",                        # Disable external logging (W&B, etc.)\n",
    "    load_best_model_at_end=True,            # Load best checkpoint at end\n",
    "    metric_for_best_model=\"eval_loss\",       # Use validation loss to select best model\n",
    "    greater_is_better=False,                 # Lower loss is better\n",
    "    dataloader_pin_memory=True,              # Speed up data loading\n",
    "    remove_unused_columns=False,             # Keep all columns for custom processing\n",
    ")\n",
    "\n",
    "# Initialize the Trainer\n",
    "trainer = Trainer(\n",
    "    model=model,                            # Model to train\n",
    "    args=training_args,                     # Training configuration\n",
    "    train_dataset=tokenized_train_dataset,  # Training data\n",
    "    eval_dataset=tokenized_test_dataset,    # Validation data\n",
    "    tokenizer=tokenizer                     # Tokenizer for proper saving\n",
    ")\n",
    "\n",
    "print(\"✅ Training configuration completed!\")\n",
    "print(f\"Output directory: {output_dir}\")\n",
    "print(f\"Training examples: {len(tokenized_train_dataset)}\")\n",
    "print(f\"Validation examples: {len(tokenized_test_dataset)}\")"
   ]
  },
  {
   "cell_type": "markdown",
   "id": "cefd3100-f529-4b42-b579-9f9d513da103",
   "metadata": {},
   "source": [
    "## 🚀 Model Training\r\n",
    "\r\n",
    "Starting the fine-tuning process. This will:\r\n",
    "1. **Fine-tune** the pre-trained mBART model on our Arabic-English dataset\r\n",
    "2. **Evaluate** performance after each epoch\r\n",
    "3. **Save** checkpoints for the best performing model\r\n",
    "4. **Track** training and validation losses\r\n",
    "\r\n",
    "**Expected Duration**: ~10-20 minutes depending on GPU"
   ]
  },
  {
   "cell_type": "code",
   "execution_count": 29,
   "id": "bef61f6a-2660-4e2e-9b4c-e2b0befff87c",
   "metadata": {},
   "outputs": [
    {
     "data": {
      "text/html": [
       "\n",
       "    <div>\n",
       "      \n",
       "      <progress value='1250' max='1250' style='width:300px; height:20px; vertical-align: middle;'></progress>\n",
       "      [1250/1250 19:06, Epoch 2/2]\n",
       "    </div>\n",
       "    <table border=\"1\" class=\"dataframe\">\n",
       "  <thead>\n",
       " <tr style=\"text-align: left;\">\n",
       "      <th>Epoch</th>\n",
       "      <th>Training Loss</th>\n",
       "      <th>Validation Loss</th>\n",
       "    </tr>\n",
       "  </thead>\n",
       "  <tbody>\n",
       "    <tr>\n",
       "      <td>1</td>\n",
       "      <td>1.375500</td>\n",
       "      <td>0.357682</td>\n",
       "    </tr>\n",
       "    <tr>\n",
       "      <td>2</td>\n",
       "      <td>0.288600</td>\n",
       "      <td>0.343950</td>\n",
       "    </tr>\n",
       "  </tbody>\n",
       "</table><p>"
      ],
      "text/plain": [
       "<IPython.core.display.HTML object>"
      ]
     },
     "metadata": {},
     "output_type": "display_data"
    },
    {
     "name": "stderr",
     "output_type": "stream",
     "text": [
      "/ibex/user/habiam0b/miniconda3/envs/GPU/lib/python3.9/site-packages/transformers/modeling_utils.py:3353: UserWarning: Moving the following attributes in the config to the generation config: {'max_length': 200, 'early_stopping': True, 'num_beams': 5}. You are seeing this warning because you've set generation parameters in the model config, as opposed to in the generation config.\n",
      "  warnings.warn(\n",
      "There were missing keys in the checkpoint model loaded: ['model.encoder.embed_tokens.weight', 'model.decoder.embed_tokens.weight', 'lm_head.weight'].\n"
     ]
    },
    {
     "data": {
      "text/plain": [
       "TrainOutput(global_step=1250, training_loss=0.832045361328125, metrics={'train_runtime': 1147.1685, 'train_samples_per_second': 8.717, 'train_steps_per_second': 1.09, 'total_flos': 5417824419840000.0, 'train_loss': 0.832045361328125, 'epoch': 2.0})"
      ]
     },
     "execution_count": 29,
     "metadata": {},
     "output_type": "execute_result"
    }
   ],
   "source": [
    "# Start training process\n",
    "# The trainer will automatically handle:\n",
    "# - Forward and backward passes\n",
    "# - Loss computation\n",
    "# - Optimizer steps\n",
    "# - Learning rate scheduling\n",
    "# - Evaluation loops\n",
    "# - Checkpoint saving\n",
    "trainer.train()"
   ]
  },
  {
   "cell_type": "markdown",
   "id": "cca2b1c3-55ca-436d-b997-6e97d792fedd",
   "metadata": {},
   "source": [
    "## 📊 Training Metrics Visualization\r\n",
    "\r\n",
    "Let's extract and visualize the training history to understand:\r\n",
    "- **Training Loss**: How well the model fits the training data\r\n",
    "- **Validation Loss**: How well the model generalizes to unseen data\r\n",
    "- **Training Progress**: Convergence patterns over epochs"
   ]
  },
  {
   "cell_type": "code",
   "execution_count": 30,
   "id": "17651ff3-01f0-4e4d-bfd4-a57c9af7cce3",
   "metadata": {},
   "outputs": [
    {
     "name": "stdout",
     "output_type": "stream",
     "text": [
      "📊 Extracting training metrics...\n",
      "📈 Training Metrics:\n",
      "Training losses: [1.3755, 0.2886]\n",
      "Validation losses: [0.35768234729766846, 0.3439500033855438]\n",
      "Epochs: [1.0, 2.0]\n"
     ]
    },
    {
     "data": {
      "image/png": "[encoded data removed]",
      "text/plain": [
       "<Figure size 1000x600 with 1 Axes>"
      ]
     },
     "metadata": {},
     "output_type": "display_data"
    },
    {
     "name": "stdout",
     "output_type": "stream",
     "text": [
      "\n",
      "🎯 Training Analysis:\n",
      "Training loss improvement: 1.0869\n",
      "Validation loss improvement: 0.0137\n"
     ]
    }
   ],
   "source": [
    "# Extract training metrics from trainer state\n",
    "train_losses = []\n",
    "val_losses = []\n",
    "epochs = []\n",
    "\n",
    "print(\"📊 Extracting training metrics...\")\n",
    "\n",
    "# Parse through training log history\n",
    "for log in trainer.state.log_history:\n",
    "    if \"epoch\" in log:\n",
    "        if \"loss\" in log and \"eval_loss\" not in log:\n",
    "            # Training loss\n",
    "            train_losses.append(log[\"loss\"])\n",
    "            epochs.append(log[\"epoch\"])\n",
    "        elif \"eval_loss\" in log:\n",
    "            # Validation loss\n",
    "            val_losses.append(log[\"eval_loss\"])\n",
    "\n",
    "# Display extracted metrics\n",
    "print(\"📈 Training Metrics:\")\n",
    "print(f\"Training losses: {train_losses}\")\n",
    "print(f\"Validation losses: {val_losses}\")\n",
    "print(f\"Epochs: {epochs}\")\n",
    "\n",
    "# Create loss visualization\n",
    "plt.figure(figsize=(10, 6))\n",
    "plt.plot(epochs, train_losses, 'b-o', label='Training Loss', linewidth=2, markersize=6)\n",
    "plt.plot(range(1, len(val_losses) + 1), val_losses, 'r-s', label='Validation Loss', linewidth=2, markersize=6)\n",
    "\n",
    "plt.xlabel('Epoch', fontsize=12)\n",
    "plt.ylabel('Loss', fontsize=12)\n",
    "plt.title('Training and Validation Loss Over Time', fontsize=14, fontweight='bold')\n",
    "plt.legend(fontsize=11)\n",
    "plt.grid(True, alpha=0.3)\n",
    "plt.tight_layout()\n",
    "\n",
    "# Add text annotations for final values\n",
    "if train_losses and val_losses:\n",
    "    plt.annotate(f'Final Train: {train_losses[-1]:.4f}', \n",
    "                xy=(epochs[-1], train_losses[-1]), xytext=(10, 10),\n",
    "                textcoords='offset points', fontsize=10,\n",
    "                bbox=dict(boxstyle='round,pad=0.3', facecolor='blue', alpha=0.3))\n",
    "    plt.annotate(f'Final Val: {val_losses[-1]:.4f}', \n",
    "                xy=(len(val_losses), val_losses[-1]), xytext=(10, -20),\n",
    "                textcoords='offset points', fontsize=10,\n",
    "                bbox=dict(boxstyle='round,pad=0.3', facecolor='red', alpha=0.3))\n",
    "\n",
    "plt.show()\n",
    "\n",
    "# Analyze training results\n",
    "print(\"\\n🎯 Training Analysis:\")\n",
    "if len(train_losses) > 1:\n",
    "    improvement = train_losses[0] - train_losses[-1]\n",
    "    print(f\"Training loss improvement: {improvement:.4f}\")\n",
    "if len(val_losses) > 1:\n",
    "    val_improvement = val_losses[0] - val_losses[-1]\n",
    "    print(f\"Validation loss improvement: {val_improvement:.4f}\")"
   ]
  },
  {
   "cell_type": "markdown",
   "id": "2ab29bae-42ef-4654-bb95-8385e784be14",
   "metadata": {},
   "source": [
    "## 💾 Saving the Fine-tuned Model\n",
    "\n",
    "Saving both the model and tokenizer for future use:\n",
    "- **Model weights**: Fine-tuned parameters\n",
    "- **Tokenizer configuration**: Language mappings and vocabulary\n",
    "- **Generation config**: Default inference parameters"
   ]
  },
  {
   "cell_type": "code",
   "execution_count": 31,
   "id": "ee5879d8-69e8-428b-8472-6f4ecf57911c",
   "metadata": {},
   "outputs": [
    {
     "name": "stdout",
     "output_type": "stream",
     "text": [
      "💾 Saving fine-tuned model to: mbart_one_to_many_2ep_full_finetuned_bidir\n",
      "✅ Model and tokenizer saved successfully!\n",
      "📁 Saved files in: mbart_one_to_many_2ep_full_finetuned_bidir/\n",
      "📋 Saved files:\n",
      "  - config.json\n",
      "  - generation_config.json\n",
      "  - model.safetensors\n",
      "  - sentencepiece.bpe.model\n",
      "  - special_tokens_map.json\n",
      "  - tokenizer_config.json\n",
      "  - training_args.bin\n"
     ]
    }
   ],
   "source": [
    "# Save the fine-tuned model and tokenizer\n",
    "model_save_path = 'mbart_one_to_many_2ep_full_finetuned_bidir'\n",
    "\n",
    "print(f\"💾 Saving fine-tuned model to: {model_save_path}\")\n",
    "\n",
    "# Save both model and tokenizer\n",
    "# This automatically saves:\n",
    "# - Model weights (pytorch_model.bin)\n",
    "# - Model configuration (config.json)\n",
    "# - Tokenizer files (tokenizer.json, special_tokens_map.json, etc.)\n",
    "trainer.save_model(model_save_path)\n",
    "\n",
    "print(\"✅ Model and tokenizer saved successfully!\")\n",
    "print(f\"📁 Saved files in: {model_save_path}/\")\n",
    "\n",
    "# List saved files\n",
    "import os\n",
    "if os.path.exists(model_save_path):\n",
    "    files = os.listdir(model_save_path)\n",
    "    print(\"📋 Saved files:\")\n",
    "    for file in sorted(files):\n",
    "        print(f\"  - {file}\")"
   ]
  },
  {
   "cell_type": "markdown",
   "id": "706d1897-e6b7-44f4-a858-60c3d3c9224b",
   "metadata": {},
   "source": [
    "## 🔄 Loading the Fine-tuned Model\n",
    "\n",
    "Loading our saved model for inference and evaluation:\n",
    "- **Model**: Fine-tuned mBART with improved Arabic-English translation\n",
    "- **Tokenizer**: Configured with proper language mappings\n",
    "- **Device**: Moving to GPU for faster inference"
   ]
  },
  {
   "cell_type": "code",
   "execution_count": 32,
   "id": "8b252e4c-3c59-46e1-9e8e-ec7ccb2463ad",
   "metadata": {},
   "outputs": [
    {
     "name": "stdout",
     "output_type": "stream",
     "text": [
      "🔄 Loading fine-tuned model...\n",
      "✅ Fine-tuned model loaded successfully!\n",
      "🖥️ Model device: cuda:0\n",
      "📊 Model parameters: 610,879,488\n"
     ]
    }
   ],
   "source": [
    "from transformers import MBartForConditionalGeneration, MBart50Tokenizer\n",
    "\n",
    "print(\"🔄 Loading fine-tuned model...\")\n",
    "\n",
    "# Load the fine-tuned model and tokenizer from saved directory\n",
    "model = MBartForConditionalGeneration.from_pretrained(model_save_path)\n",
    "tokenizer = MBart50Tokenizer.from_pretrained(model_save_path)\n",
    "\n",
    "# Move model to appropriate device (GPU if available)\n",
    "model.to(device)\n",
    "\n",
    "print(\"✅ Fine-tuned model loaded successfully!\")\n",
    "print(f\"🖥️ Model device: {next(model.parameters()).device}\")\n",
    "print(f\"📊 Model parameters: {model.num_parameters():,}\")"
   ]
  },
  {
   "cell_type": "markdown",
   "id": "93fc3939-3000-439a-a414-0bee4579aa00",
   "metadata": {},
   "source": [
    "## 🧪 Post-Training Model Evaluation\n",
    "\n",
    "Testing our fine-tuned model with the same examples used for pre-training evaluation:\n",
    "- **Compare** performance before and after fine-tuning\n",
    "- **Assess** translation quality improvements\n",
    "- **Verify** bidirectional translation capabilities"
   ]
  },
  {
   "cell_type": "code",
   "execution_count": 35,
   "id": "5ed9aad4-ccd4-4a57-98f0-fb5ac43ac2ee",
   "metadata": {},
   "outputs": [
    {
     "name": "stdout",
     "output_type": "stream",
     "text": [
      "🔄 Testing English → Arabic translation (fine-tuned):\n",
      "Input: The greater the burden, the more you must be charged with it by God. The greater the blessing He has bestowed upon you, the more you must be thankful\n",
      "Translation: وكلما كان الثقل أعظم، كان عليك أن تكلفه أكثر من الله، وكلما كان النعمة التي أنجز عليك أعظم، كان عليك أن تشكر أكثر.\n"
     ]
    }
   ],
   "source": [
    "# Test fine-tuned model: English → Arabic translation\n",
    "sample_english = \"The greater the burden, the more you must be charged with it by God. The greater the blessing He has bestowed upon you, the more you must be thankful\"\n",
    "\n",
    "print(\"🔄 Testing English → Arabic translation (fine-tuned):\")\n",
    "print(f\"Input: {sample_english}\")\n",
    "\n",
    "# Set tokenizer source language to English\n",
    "tokenizer.src_lang = \"en_XX\"\n",
    "\n",
    "# Generate Arabic translation using fine-tuned model\n",
    "with torch.no_grad():\n",
    "    # Tokenize input text\n",
    "    encoding = tokenizer(sample_english, return_tensors='pt')\n",
    "    \n",
    "    # 🔧 IMPORTANT: Move inputs to the same device as the model\n",
    "    input_ids = encoding.input_ids.to(device)\n",
    "    attention_mask = encoding.attention_mask.to(device)\n",
    "    \n",
    "    # Generate translation with forced Arabic output\n",
    "    result = model.generate(\n",
    "        input_ids=input_ids, \n",
    "        attention_mask=attention_mask,\n",
    "        forced_bos_token_id=tokenizer.lang_code_to_id[\"ar_AR\"],  # Force Arabic output\n",
    "        max_length=512,\n",
    "        num_beams=4,  # Beam search for better quality\n",
    "        early_stopping=True\n",
    "    )\n",
    "    \n",
    "    # Decode the generated tokens\n",
    "    translation = tokenizer.batch_decode(result, skip_special_tokens=True)[0]\n",
    "\n",
    "print(f\"Translation: {translation}\")"
   ]
  },
  {
   "cell_type": "code",
   "execution_count": 36,
   "id": "b82e3129-660d-4054-a657-30d2c8fcdc55",
   "metadata": {},
   "outputs": [
    {
     "name": "stdout",
     "output_type": "stream",
     "text": [
      "🔄 Testing Arabic → English translation (fine-tuned):\n",
      "Input: كلما زاد العبء، كلما كان عليك أن تتحمله من الله. كلما كانت البركة التي منحها لك أكبر، كلما كان عليك أن تكون أكثر امتنانًا\n",
      "Translation: However you increase the intellect, however you support him from God. However the fruits that give it to you are greater, however you become more solid, however you become more solid\n"
     ]
    }
   ],
   "source": [
    "# Test fine-tuned model: Arabic → English translation\n",
    "sample_arabic = \"كلما زاد العبء، كلما كان عليك أن تتحمله من الله. كلما كانت البركة التي منحها لك أكبر، كلما كان عليك أن تكون أكثر امتنانًا\"\n",
    "\n",
    "print(\"🔄 Testing Arabic → English translation (fine-tuned):\")\n",
    "print(f\"Input: {sample_arabic}\")\n",
    "\n",
    "# Set tokenizer source language to Arabic\n",
    "tokenizer.src_lang = \"ar_AR\"\n",
    "\n",
    "# Generate English translation using fine-tuned model\n",
    "with torch.no_grad():\n",
    "    # Tokenize input text\n",
    "    encoding = tokenizer(sample_arabic, return_tensors='pt')\n",
    "    \n",
    "    # 🔧 IMPORTANT: Move inputs to the same device as the model\n",
    "    input_ids = encoding.input_ids.to(device)\n",
    "    attention_mask = encoding.attention_mask.to(device)\n",
    "    \n",
    "    # Generate translation with forced English output\n",
    "    result = model.generate(\n",
    "        input_ids=input_ids, \n",
    "        attention_mask=attention_mask,\n",
    "        forced_bos_token_id=tokenizer.lang_code_to_id[\"en_XX\"],  # Force English output\n",
    "        max_length=512,\n",
    "        num_beams=4,  # Beam search for better quality\n",
    "        early_stopping=True\n",
    "    )\n",
    "    \n",
    "    # Decode the generated tokens\n",
    "    translation = tokenizer.batch_decode(result, skip_special_tokens=True)[0]\n",
    "\n",
    "print(f\"Translation: {translation}\")"
   ]
  },
  {
   "cell_type": "markdown",
   "id": "4c99ab8a-f9cf-44ef-82c5-7abdce3541e3",
   "metadata": {},
   "source": [
    "## 📏 Quantitative Evaluation with BLEU Score\n",
    "\n",
    "**BLEU (Bilingual Evaluation Understudy)** is a standard metric for evaluating translation quality:\n",
    "- **Range**: 0-100 (higher is better)\n",
    "- **Measurement**: N-gram overlap between predicted and reference translations\n",
    "- **Comparison**: We'll compare pre-trained vs. fine-tuned model performance\n",
    "\n",
    "### Evaluation Setup:\n",
    "- **Test Set**: 500 English→Arabic pairs from our test data\n",
    "- **Metrics**: BLEU-1, BLEU-2, BLEU-3, BLEU-4 scores\n",
    "- **Models**: Original mBART vs. Fine-tuned mBART"
   ]
  },
  {
   "cell_type": "code",
   "execution_count": 37,
   "id": "1b92eb43-1c93-4562-aa2b-ff94aadc81bf",
   "metadata": {},
   "outputs": [
    {
     "data": {
      "application/vnd.jupyter.widget-view+json": {
       "model_id": "7bf7704cdd76469c803d08c35a979458",
       "version_major": 2,
       "version_minor": 0
      },
      "text/plain": [
       "Downloading builder script: 0.00B [00:00, ?B/s]"
      ]
     },
     "metadata": {},
     "output_type": "display_data"
    },
    {
     "data": {
      "application/vnd.jupyter.widget-view+json": {
       "model_id": "a4990273f16b465c821ffbcd5a599d24",
       "version_major": 2,
       "version_minor": 0
      },
      "text/plain": [
       "Downloading extra modules: 0.00B [00:00, ?B/s]"
      ]
     },
     "metadata": {},
     "output_type": "display_data"
    },
    {
     "name": "stdout",
     "output_type": "stream",
     "text": [
      "📏 Setting up BLEU evaluation...\n",
      "🔄 Loading original mBART model for comparison...\n",
      "✅ Original model and tokenizer loaded for comparison!\n",
      "🖥️ Untrained model device: cuda:0\n"
     ]
    }
   ],
   "source": [
    "# Load BLEU evaluation metric\n",
    "bleu = evaluate.load('bleu')\n",
    "\n",
    "print(\"📏 Setting up BLEU evaluation...\")\n",
    "\n",
    "# Load the original (untrained) model for comparison\n",
    "print(\"🔄 Loading original mBART model for comparison...\")\n",
    "untrained_model = MBartForConditionalGeneration.from_pretrained('facebook/mbart-large-50-one-to-many-mmt')\n",
    "untrained_model.to(device)\n",
    "\n",
    "# Load original tokenizer\n",
    "untrained_tokenizer = MBart50Tokenizer.from_pretrained('facebook/mbart-large-50-one-to-many-mmt')\n",
    "\n",
    "print(\"✅ Original model and tokenizer loaded for comparison!\")\n",
    "print(f\"🖥️ Untrained model device: {next(untrained_model.parameters()).device}\")"
   ]
  },
  {
   "cell_type": "markdown",
   "id": "ea6a5324-5837-4462-86aa-e54ccd6ac0e5",
   "metadata": {},
   "source": [
    "## 🎯 Evaluation Data Preparation\r\n",
    "\r\n",
    "For fair comparison, we'll split our test data into two groups:\r\n",
    "- **English → Arabic**: 500 translation pairs\r\n",
    "- **Arabic → English**: 500 translation pairs\r\n",
    "\r\n",
    "This ensures balanced evaluation of both translation directions."
   ]
  },
  {
   "cell_type": "code",
   "execution_count": 38,
   "id": "a8086ee3-18bd-4a46-b5dc-0f014317f0c8",
   "metadata": {},
   "outputs": [
    {
     "name": "stdout",
     "output_type": "stream",
     "text": [
      "📊 Evaluation Data Split:\n",
      "English → Arabic pairs: 500\n",
      "Arabic → English pairs: 500\n",
      "Total evaluation pairs: 1000\n",
      "\n",
      "📝 Sample English → Arabic:\n",
      "EN: What appears from these words is that the nerve exits in the first vertebra from above, and this was invalidated in his words in the first vertebra, and it is apparently invalidated by what he said in his words in the first vertebra.\n",
      "AR: الذي يظهر من هذا الكلام أن مخرج العصب في الفقرة الأولى من فوق وهذا قد أبطله في كلامه في الفقرة الأولى وهو ظاهر البطلان بما قاله في كلامه في الفقرة الأولى.\n",
      "\n",
      "📝 Sample Arabic → English:\n",
      "AR: [كيفية الدخول على الملك] وإن كان دخوله عليه من الباب الأول الذي يقابل وجه الملك ويحاذيه - وكان له طريق عن يمينه أو شماله - عدل نحو الطريق الذي لا يقابله فيه بوجهه، ثم انحرف نحو مجلس الملك، فسلم قائما ملاحظا للملك.\n",
      "EN: [How to enter upon the king] If he enters upon him from the first door that faces the king’s face and is parallel to him - and he has a path to his right or left - he turns towards the path that does not face him, then turns towards the king’s seat, and greets him while standing and observing the king.\n"
     ]
    }
   ],
   "source": [
    "# Split test data for bidirectional evaluation\n",
    "# This ensures we test both translation directions equally\n",
    "en_to_ar_data = test_data.sample(frac=0.5, random_state=123)\n",
    "ar_to_en_data = test_data.loc[test_data.index.difference(en_to_ar_data.index)]\n",
    "\n",
    "print(f\"📊 Evaluation Data Split:\")\n",
    "print(f\"English → Arabic pairs: {len(en_to_ar_data)}\")\n",
    "print(f\"Arabic → English pairs: {len(ar_to_en_data)}\")\n",
    "print(f\"Total evaluation pairs: {len(en_to_ar_data) + len(ar_to_en_data)}\")\n",
    "\n",
    "# Display sample from each direction\n",
    "print(f\"\\n📝 Sample English → Arabic:\")\n",
    "sample_en = en_to_ar_data.iloc[0]\n",
    "print(f\"EN: {sample_en['en']}\")\n",
    "print(f\"AR: {sample_en['ar']}\")\n",
    "\n",
    "print(f\"\\n📝 Sample Arabic → English:\")\n",
    "sample_ar = ar_to_en_data.iloc[0]\n",
    "print(f\"AR: {sample_ar['ar']}\")\n",
    "print(f\"EN: {sample_ar['en']}\")"
   ]
  },
  {
   "cell_type": "markdown",
   "id": "9e021e7b-bcfb-41b0-a5bb-c6a898582279",
   "metadata": {},
   "source": [
    "## 🔄 English → Arabic Translation Evaluation\n",
    "\n",
    "We'll process the English→Arabic test set in batches to:\n",
    "1. **Generate translations** from both untrained and fine-tuned models\n",
    "2. **Compare outputs** with reference Arabic translations\n",
    "3. **Compute BLEU scores** for quantitative assessment\n",
    "\n",
    "**Batch Processing**: Using batches of 16 for efficient GPU utilization"
   ]
  },
  {
   "cell_type": "code",
   "execution_count": 39,
   "id": "61936017-0182-46ad-8552-20d28e23c8fe",
   "metadata": {},
   "outputs": [
    {
     "name": "stdout",
     "output_type": "stream",
     "text": [
      "🔄 Processing 500 English → Arabic translations...\n",
      "Using 32 batches of size 16\n"
     ]
    },
    {
     "name": "stderr",
     "output_type": "stream",
     "text": [
      "Generating translations:   0%|                                                                   | 0/32 [00:00<?, ?it/s]`generation_config` default values have been modified to match model-specific defaults: {'max_length': 200, 'forced_eos_token_id': 2, 'pad_token_id': 1, 'bos_token_id': 0, 'eos_token_id': 2, 'decoder_start_token_id': 2}. If this is not desired, please set these values explicitly.\n",
      "Generating translations: 100%|██████████████████████████████████████████████████████████| 32/32 [05:38<00:00, 10.56s/it]"
     ]
    },
    {
     "name": "stdout",
     "output_type": "stream",
     "text": [
      "✅ Generated 500 untrained translations\n",
      "✅ Generated 500 fine-tuned translations\n"
     ]
    },
    {
     "name": "stderr",
     "output_type": "stream",
     "text": [
      "\n"
     ]
    }
   ],
   "source": [
    "import math\n",
    "from tqdm import tqdm\n",
    "\n",
    "# Set batch size for efficient processing\n",
    "batch_size = 16\n",
    "num_batches = int(math.ceil(len(en_to_ar_data) / batch_size))\n",
    "\n",
    "# Store all model outputs for BLEU computation\n",
    "all_untrained_model_outputs = []\n",
    "all_trained_model_outputs = []\n",
    "\n",
    "print(f\"🔄 Processing {len(en_to_ar_data)} English → Arabic translations...\")\n",
    "print(f\"Using {num_batches} batches of size {batch_size}\")\n",
    "\n",
    "# Process data in batches\n",
    "for i in tqdm(range(num_batches), desc=\"Generating translations\"):\n",
    "    \n",
    "    # Define batch boundaries\n",
    "    batch_start = i * batch_size\n",
    "    batch_end = batch_start + batch_size\n",
    "    \n",
    "    # Get current batch (handle last batch which might be smaller)\n",
    "    if i == num_batches - 1:\n",
    "        batch_df = en_to_ar_data.iloc[batch_start:]\n",
    "    else:\n",
    "        batch_df = en_to_ar_data.iloc[batch_start:batch_end]\n",
    "    \n",
    "    # Prepare input prompts (English sentences)\n",
    "    prompts = [f'{english}' for english in batch_df['en']]\n",
    "    \n",
    "    # Generate translations without gradient computation (inference mode)\n",
    "    with torch.no_grad():\n",
    "        \n",
    "        # Set source language for both tokenizers (English input)\n",
    "        tokenizer.src_lang = \"en_XX\"\n",
    "        untrained_tokenizer.src_lang = \"en_XX\"\n",
    "        \n",
    "        # Tokenize input prompts\n",
    "        encodings = tokenizer(\n",
    "            prompts, \n",
    "            return_tensors=\"pt\", \n",
    "            padding=\"max_length\", \n",
    "            truncation=True, \n",
    "            max_length=256\n",
    "        )\n",
    "        \n",
    "        # Move inputs to GPU\n",
    "        input_ids = encodings.input_ids.to(device)\n",
    "        attention_mask = encodings.attention_mask.to(device)\n",
    "        \n",
    "        # 🤖 Generate translations with UNTRAINED model\n",
    "        untrained_outputs = untrained_model.generate(\n",
    "            input_ids=input_ids,\n",
    "            attention_mask=attention_mask,\n",
    "            forced_bos_token_id=untrained_tokenizer.lang_code_to_id[\"ar_AR\"],  # Force Arabic output\n",
    "            generation_config=GenerationConfig(\n",
    "                max_new_tokens=256,\n",
    "                num_beams=4,  # Beam search for better quality\n",
    "                early_stopping=True,\n",
    "                no_repeat_ngram_size=2  # Prevent repetition\n",
    "            )\n",
    "        )\n",
    "        \n",
    "        # Decode untrained model outputs\n",
    "        untrained_text_outputs = untrained_tokenizer.batch_decode(\n",
    "            untrained_outputs, \n",
    "            skip_special_tokens=True\n",
    "        )\n",
    "        all_untrained_model_outputs.extend(untrained_text_outputs)\n",
    "        \n",
    "        # 🎯 Generate translations with FINE-TUNED model\n",
    "        trained_outputs = model.generate(\n",
    "            input_ids=input_ids,\n",
    "            attention_mask=attention_mask,\n",
    "            forced_bos_token_id=tokenizer.lang_code_to_id[\"ar_AR\"],  # Force Arabic output\n",
    "            generation_config=GenerationConfig(\n",
    "                max_new_tokens=256,\n",
    "                num_beams=4,  # Beam search for better quality\n",
    "                early_stopping=True,\n",
    "                no_repeat_ngram_size=2  # Prevent repetition\n",
    "            )\n",
    "        )\n",
    "        \n",
    "        # Decode fine-tuned model outputs\n",
    "        trained_text_outputs = tokenizer.batch_decode(\n",
    "            trained_outputs, \n",
    "            skip_special_tokens=True\n",
    "        )\n",
    "        all_trained_model_outputs.extend(trained_text_outputs)\n",
    "\n",
    "print(f\"✅ Generated {len(all_untrained_model_outputs)} untrained translations\")\n",
    "print(f\"✅ Generated {len(all_trained_model_outputs)} fine-tuned translations\")"
   ]
  },
  {
   "cell_type": "code",
   "execution_count": 40,
   "id": "1e322f1b-93a8-4666-b955-40a80f7f1676",
   "metadata": {},
   "outputs": [
    {
     "name": "stdout",
     "output_type": "stream",
     "text": [
      "📊 Translation Results Summary:\n",
      "Total English → Arabic translations: 500\n",
      "\n",
      "📝 Sample Translation Comparison:\n",
      "\n",
      "Example 1:\n",
      "🔤 English Input: What appears from these words is that the nerve exits in the first vertebra from above, and this was invalidated in his words in the first vertebra, and it is apparently invalidated by what he said in his words in the first vertebra.\n",
      "🎯 Reference Arabic: الذي يظهر من هذا الكلام أن مخرج العصب في الفقرة الأولى من فوق وهذا قد أبطله في كلامه في الفقرة الأولى وهو ظاهر البطلان بما قاله في كلامه في الفقرة الأولى.\n",
      "🤖 Untrained Model: ما يظهر من هذه الكلمات هو أن الاعصاب تخرج من العمود الفقري الأول من الأعلى، وقد كان هذا غير صالحاً في كلماته في الجذع الأول، ومن الواضح أنه غير صحيح بما قاله من خلال كلماتها في الرّمنة الأولى.\n",
      "🔥 Fine-tuned Model: وما يظهر من هذه الألفاظ أن العصب يخرج من الفقرة الأولى من فوق، وهذا باطل في كلامه من الفقار الأول، وهو ظاهرا باطل بما قال به من قوله من جملته من الجذع الأول.\n",
      "--------------------------------------------------------------------------------\n",
      "\n",
      "Example 2:\n",
      "🔤 English Input: And if it is said: There is no above the surface of the world, nor is there a dimension beyond it, the imagination is unable to accept it, just as if it is said: There is no before the existence of the world, “before” is a confirmed existence, it is repelled from accepting it, and just as it is permissible for the imagination to lie in its estimation that above the world is a void, which is a dimension without end, by saying to it: The void is not understood in itself, and as for the dimension, it is dependent on the body whose diameters are far apart, so if the body is finite, the dimension that is dependent on it is finite, and the fullness is cut off and the void is not understood, so it is proven that there is neither void nor fullness beyond the world, even if the imagination does not accept it.\n",
      "🎯 Reference Arabic: وإذا قيل: ليس فوق سطح العالم فوق ولا بعد أبعد منه، كاع الوهم عن الإذعان لقبوله، كما إذا قيل: ليس قبل وجود العالم \"قبل\" هو وجود محقق، نفر عن قبوله، وكما جاز أن يكذب الوهم في تقديره فوق العالم خلاء هو بعد لا نهاية له، بأن يقال له: الخلاء ليس مفهوما في نفسه، وأما البعد فهو تابع للجسم الذي تتباعد أقطاره، فإذا كان الجسم متناهيا كان البعد الذي هو تابع له متناهيا، وانقطع الملاء والخلاء غير مفهوم فثبت أنه ليس وراء العالم لا خلاء ولا ملاء، وإن كان الوهم لا يذعن لقبوله.\n",
      "🤖 Untrained Model: وإذا كان يقول: لا يوجد فوق سطح العالم، ولا يوجد بعد وراءه، فالخيال لا يستطيع أن يقبلها، تماماً كما لو قال: ليس هناك قبل وجود العالم ، \"قبل\" هو وجود مؤكد، يتم منعه من القبول به، وكما هو مسموح للخيالي أن يكون في تقديره أن فوق العالم يوجد فراغ، وهو بعد بلا نهاية، بقوله له: الفراغ غير مفهوم في حد ذاته ، وبالنسبة للبعد، فهو يعتمد على الجسم الذي يبعد قطره بعيداً، لذا إذا كان الجسم محدوداً ، فالبعد الذي يعتمد عليه هو محدود، والامتلاء يتم قطعه والفراغ لا يفهم، لذلك يثبت أنه ليس هنالك فضاء أو ملاءة وراء العالم حتى لو لم يتحمله الخيال.\n",
      "🔥 Fine-tuned Model: وإذا قيل: ليس فوق سطح العالم بعد ولا وراءه بعد فإن الوهم لا يقدر على قبوله، كما أن يقال: لا قبل وجود العالم، \"قبل\" هو وجود موثق، يندفع عنه عن قبولها، وكما يحل أن يقع في التخيل في تقديره أن فوق العالم خلاء، وهو بعد لا نهاية له، بقوله له: الفضول لا تعقل في نفسه، وأما البعد فهو معتمد على الجسم الذي تبعد قطره فإذا كان الجسم مقتصرا كان المقياس المعتمد عليه مقدرا، والللاء مقطوعا والماء غير مدرك، فيثبت أنه لا يكون وراء العالم فضلا ولا ملاء وإن لم يقبله الوهما.\n",
      "--------------------------------------------------------------------------------\n",
      "\n",
      "Example 3:\n",
      "🔤 English Input: And God is the Grantor of success. The second research: The benefits of the science of anatomy. The doctor’s benefit from this science is partly in knowledge, partly in action, and partly in reasoning.\n",
      "🎯 Reference Arabic: والله ولي التوفيق البحث الثاني فوائد علم التشريح انتفاع الطبيب بهذا العلم بعضه في العلم، وبعضه في العمل، وبعضه في الاستدلال.\n",
      "🤖 Untrained Model: و الرب هو المُعطِل للنجاح. البحث الثاني: فوائد علم التشريح. فائدة الطبيب من هذا العلم هي جزئياً في المعرفة، جزئيًا في العمل، وجزأً ما في التفسير.\n",
      "🔥 Fine-tuned Model: والله مؤهل النجاح، والبحث الثاني: منافع علم التشريح، وفائدة الطبيب من هذا العلم هي جزئيا في العلم وجزء من الفعل، ومقدار العلة.\n",
      "--------------------------------------------------------------------------------\n"
     ]
    }
   ],
   "source": [
    "# Verify we have the correct number of translations\n",
    "assert len(all_untrained_model_outputs) == len(en_to_ar_data), \"Mismatch in untrained outputs\"\n",
    "assert len(all_trained_model_outputs) == len(en_to_ar_data), \"Mismatch in trained outputs\"\n",
    "\n",
    "# Store translations in the dataframe for easy comparison\n",
    "en_to_ar_data = en_to_ar_data.copy()  # Avoid SettingWithCopyWarning\n",
    "en_to_ar_data['trained_model_arabic'] = all_trained_model_outputs\n",
    "en_to_ar_data['untrained_model_arabic'] = all_untrained_model_outputs\n",
    "\n",
    "print(\"📊 Translation Results Summary:\")\n",
    "print(f\"Total English → Arabic translations: {len(en_to_ar_data)}\")\n",
    "\n",
    "# Display a few examples for qualitative assessment\n",
    "print(\"\\n📝 Sample Translation Comparison:\")\n",
    "for i in range(3):\n",
    "    sample = en_to_ar_data.iloc[i]\n",
    "    print(f\"\\nExample {i+1}:\")\n",
    "    print(f\"🔤 English Input: {sample['en']}\")\n",
    "    print(f\"🎯 Reference Arabic: {sample['ar']}\")\n",
    "    print(f\"🤖 Untrained Model: {sample['untrained_model_arabic']}\")\n",
    "    print(f\"🔥 Fine-tuned Model: {sample['trained_model_arabic']}\")\n",
    "    print(\"-\" * 80)"
   ]
  },
  {
   "cell_type": "markdown",
   "id": "cfabf08d-5cdd-425a-9ab2-c67e21c7188a",
   "metadata": {},
   "source": [
    "## 📊 BLEU Score Computation\n",
    "\n",
    "Computing BLEU scores to quantitatively compare translation quality:\n",
    "- **BLEU-1, BLEU-2, BLEU-3, BLEU-4**: Different n-gram precision scores\n",
    "- **Higher scores**: Better translation quality\n",
    "- **Comparison**: Untrained vs. Fine-tuned model performance\n",
    "\n",
    "### BLEU Score Interpretation:\n",
    "- **0-10**: Very poor quality\n",
    "- **10-20**: Poor quality  \n",
    "- **20-30**: Reasonable quality\n",
    "- **30-40**: Good quality\n",
    "- **40+**: Excellent quality"
   ]
  },
  {
   "cell_type": "code",
   "execution_count": 41,
   "id": "48df49df-a355-49d0-b505-b23ad7dba79f",
   "metadata": {},
   "outputs": [
    {
     "name": "stdout",
     "output_type": "stream",
     "text": [
      "📊 Computing BLEU scores for English → Arabic translation...\n",
      "📏 Computing BLEU for 500 translation pairs...\n",
      "✅ BLEU computation completed!\n"
     ]
    }
   ],
   "source": [
    "# Prepare data for BLEU evaluation\n",
    "print(\"📊 Computing BLEU scores for English → Arabic translation...\")\n",
    "\n",
    "# Extract predictions and references\n",
    "predictions_untrained = en_to_ar_data['untrained_model_arabic'].tolist()\n",
    "predictions_trained = en_to_ar_data['trained_model_arabic'].tolist()\n",
    "references_raw = en_to_ar_data['ar'].tolist()\n",
    "\n",
    "# Format references for BLEU computation (each reference needs to be in a list)\n",
    "references = [[ref] for ref in references_raw]\n",
    "\n",
    "# Ensure all data is in string format (required by BLEU metric)\n",
    "predictions_untrained = [str(pred) for pred in predictions_untrained]\n",
    "predictions_trained = [str(pred) for pred in predictions_trained]\n",
    "references = [[str(ref)] for ref in references_raw]\n",
    "\n",
    "print(f\"📏 Computing BLEU for {len(predictions_untrained)} translation pairs...\")\n",
    "\n",
    "# Compute BLEU scores for untrained model\n",
    "original_bleu = bleu.compute(\n",
    "    predictions=predictions_untrained,\n",
    "    references=references,\n",
    ")\n",
    "\n",
    "# Compute BLEU scores for fine-tuned model\n",
    "trained_bleu = bleu.compute(\n",
    "    predictions=predictions_trained,\n",
    "    references=references,\n",
    ")\n",
    "\n",
    "print(\"✅ BLEU computation completed!\")"
   ]
  },
  {
   "cell_type": "markdown",
   "id": "eb48b75b-e006-42ae-b328-eab8710be27c",
   "metadata": {},
   "source": [
    "## 📈 English → Arabic BLEU Results\n",
    "\n",
    "Comparing the translation quality between pre-trained and fine-tuned models:"
   ]
  },
  {
   "cell_type": "code",
   "execution_count": 42,
   "id": "dc405d66-ed06-4ac2-b475-e4e71ef05526",
   "metadata": {},
   "outputs": [
    {
     "name": "stdout",
     "output_type": "stream",
     "text": [
      "🔄 English → Arabic Translation Results\n",
      "==================================================\n",
      "\n",
      "🤖 Original (Pre-trained) Model BLEU Scores:\n",
      "{\n",
      "  \"bleu\": 0.04095130155220747,\n",
      "  \"precisions\": [\n",
      "    0.27650206597575017,\n",
      "    0.07137348383930449,\n",
      "    0.02172491462617162,\n",
      "    0.006559601900022619\n",
      "  ],\n",
      "  \"brevity_penalty\": 1.0,\n",
      "  \"length_ratio\": 1.129706152433425,\n",
      "  \"translation_length\": 14763,\n",
      "  \"reference_length\": 13068\n",
      "}\n",
      "\n",
      "🔥 Fine-tuned Model BLEU Scores:\n",
      "{\n",
      "  \"bleu\": 0.1251646739834074,\n",
      "  \"precisions\": [\n",
      "    0.4462803320561941,\n",
      "    0.18548387096774194,\n",
      "    0.08501040943789036,\n",
      "    0.04143997098295248\n",
      "  ],\n",
      "  \"brevity_penalty\": 0.9578123009106891,\n",
      "  \"length_ratio\": 0.9586776859504132,\n",
      "  \"translation_length\": 12528,\n",
      "  \"reference_length\": 13068\n",
      "}\n",
      "\n",
      "📈 BLEU Score Improvement:\n",
      "Original BLEU: 0.0410\n",
      "Fine-tuned BLEU: 0.1252\n",
      "Improvement: +0.0842 (205.6%)\n",
      "\n",
      "📊 Detailed N-gram Improvements:\n",
      "BLEU-1: 0.2765 → 0.4463 (+0.1698)\n",
      "BLEU-2: 0.0714 → 0.1855 (+0.1141)\n",
      "BLEU-3: 0.0217 → 0.0850 (+0.0633)\n",
      "BLEU-4: 0.0066 → 0.0414 (+0.0349)\n"
     ]
    }
   ],
   "source": [
    "print('🔄 English → Arabic Translation Results')\n",
    "print('=' * 50)\n",
    "\n",
    "print('\\n🤖 Original (Pre-trained) Model BLEU Scores:')\n",
    "print(json.dumps(original_bleu, indent=2))\n",
    "\n",
    "print('\\n🔥 Fine-tuned Model BLEU Scores:')\n",
    "print(json.dumps(trained_bleu, indent=2))\n",
    "\n",
    "# Calculate improvement\n",
    "bleu_improvement = trained_bleu['bleu'] - original_bleu['bleu']\n",
    "print(f'\\n📈 BLEU Score Improvement:')\n",
    "print(f'Original BLEU: {original_bleu[\"bleu\"]:.4f}')\n",
    "print(f'Fine-tuned BLEU: {trained_bleu[\"bleu\"]:.4f}')\n",
    "print(f'Improvement: +{bleu_improvement:.4f} ({bleu_improvement/original_bleu[\"bleu\"]*100:.1f}%)')\n",
    "\n",
    "# Individual n-gram improvements\n",
    "print(f'\\n📊 Detailed N-gram Improvements:')\n",
    "for i, (orig, trained) in enumerate(zip(original_bleu['precisions'], trained_bleu['precisions'])):\n",
    "    improvement = trained - orig\n",
    "    print(f'BLEU-{i+1}: {orig:.4f} → {trained:.4f} (+{improvement:.4f})')"
   ]
  },
  {
   "cell_type": "markdown",
   "id": "5c3caf33-32ee-44a0-b400-6aae80cebabb",
   "metadata": {},
   "source": [
    "## 🔄 Arabic → English Translation Evaluation\n",
    "\n",
    "Now evaluating the reverse direction to assess bidirectional translation capabilities:\n",
    "- **Input**: Arabic sentences from our test set\n",
    "- **Output**: English translations\n",
    "- **Comparison**: Both models' English generation quality"
   ]
  },
  {
   "cell_type": "code",
   "execution_count": 43,
   "id": "94ab16f8-0c10-41d0-bdcc-dbe73a5115bb",
   "metadata": {},
   "outputs": [
    {
     "name": "stdout",
     "output_type": "stream",
     "text": [
      "🔄 Processing 500 Arabic → English translations...\n",
      "Using 32 batches of size 16\n"
     ]
    },
    {
     "name": "stderr",
     "output_type": "stream",
     "text": [
      "Generating Arabic→English: 100%|████████████████████████████████████████████████████████| 32/32 [04:02<00:00,  7.58s/it]"
     ]
    },
    {
     "name": "stdout",
     "output_type": "stream",
     "text": [
      "✅ Generated 500 untrained Arabic→English translations\n",
      "✅ Generated 500 fine-tuned Arabic→English translations\n"
     ]
    },
    {
     "name": "stderr",
     "output_type": "stream",
     "text": [
      "\n"
     ]
    }
   ],
   "source": [
    "# Reset output lists for Arabic → English evaluation\n",
    "all_untrained_ar_to_en = []\n",
    "all_trained_ar_to_en = []\n",
    "\n",
    "# Calculate batches for Arabic → English data\n",
    "ar_batch_size = 16\n",
    "ar_num_batches = int(math.ceil(len(ar_to_en_data) / ar_batch_size))\n",
    "\n",
    "print(f\"🔄 Processing {len(ar_to_en_data)} Arabic → English translations...\")\n",
    "print(f\"Using {ar_num_batches} batches of size {ar_batch_size}\")\n",
    "\n",
    "# Process Arabic → English translations in batches\n",
    "for i in tqdm(range(ar_num_batches), desc=\"Generating Arabic→English\"):\n",
    "    \n",
    "    # Define batch boundaries\n",
    "    batch_start = i * ar_batch_size\n",
    "    batch_end = batch_start + ar_batch_size\n",
    "    \n",
    "    # Get current batch\n",
    "    if i == ar_num_batches - 1:\n",
    "        batch_df = ar_to_en_data.iloc[batch_start:]\n",
    "    else:\n",
    "        batch_df = ar_to_en_data.iloc[batch_start:batch_end]\n",
    "    \n",
    "    # Prepare Arabic input prompts\n",
    "    arabic_prompts = [f'{arabic}' for arabic in batch_df['ar']]\n",
    "    \n",
    "    # Generate translations without gradient computation\n",
    "    with torch.no_grad():\n",
    "        \n",
    "        # Set source language to Arabic for both tokenizers\n",
    "        tokenizer.src_lang = \"ar_AR\"\n",
    "        untrained_tokenizer.src_lang = \"ar_AR\"\n",
    "        \n",
    "        # Tokenize Arabic input\n",
    "        encodings = tokenizer(\n",
    "            arabic_prompts, \n",
    "            return_tensors=\"pt\", \n",
    "            padding=\"max_length\", \n",
    "            truncation=True, \n",
    "            max_length=256\n",
    "        )\n",
    "        \n",
    "        # Move to GPU\n",
    "        input_ids = encodings.input_ids.to(device)\n",
    "        attention_mask = encodings.attention_mask.to(device)\n",
    "        \n",
    "        # Generate English translations with UNTRAINED model\n",
    "        untrained_ar_outputs = untrained_model.generate(\n",
    "            input_ids=input_ids,\n",
    "            attention_mask=attention_mask,\n",
    "            forced_bos_token_id=untrained_tokenizer.lang_code_to_id[\"en_XX\"],  # Force English output\n",
    "            generation_config=GenerationConfig(\n",
    "                max_new_tokens=256,\n",
    "                num_beams=4,\n",
    "                early_stopping=True,\n",
    "                no_repeat_ngram_size=2\n",
    "            )\n",
    "        )\n",
    "        \n",
    "        # Decode untrained model outputs\n",
    "        untrained_ar_text = untrained_tokenizer.batch_decode(\n",
    "            untrained_ar_outputs, \n",
    "            skip_special_tokens=True\n",
    "        )\n",
    "        all_untrained_ar_to_en.extend(untrained_ar_text)\n",
    "        \n",
    "        # Generate English translations with FINE-TUNED model\n",
    "        trained_ar_outputs = model.generate(\n",
    "            input_ids=input_ids,\n",
    "            attention_mask=attention_mask,\n",
    "            forced_bos_token_id=tokenizer.lang_code_to_id[\"en_XX\"],  # Force English output\n",
    "            generation_config=GenerationConfig(\n",
    "                max_new_tokens=256,\n",
    "                num_beams=4,\n",
    "                early_stopping=True,\n",
    "                no_repeat_ngram_size=2\n",
    "            )\n",
    "        )\n",
    "        \n",
    "        # Decode fine-tuned model outputs\n",
    "        trained_ar_text = tokenizer.batch_decode(\n",
    "            trained_ar_outputs, \n",
    "            skip_special_tokens=True\n",
    "        )\n",
    "        all_trained_ar_to_en.extend(trained_ar_text)\n",
    "\n",
    "print(f\"✅ Generated {len(all_untrained_ar_to_en)} untrained Arabic→English translations\")\n",
    "print(f\"✅ Generated {len(all_trained_ar_to_en)} fine-tuned Arabic→English translations\")"
   ]
  },
  {
   "cell_type": "code",
   "execution_count": 44,
   "id": "2e967ac4-d1e7-4849-b07a-367f73ba6dea",
   "metadata": {},
   "outputs": [
    {
     "name": "stdout",
     "output_type": "stream",
     "text": [
      "📊 Computing BLEU scores for Arabic → English translation...\n",
      "✅ Arabic → English BLEU computation completed!\n"
     ]
    }
   ],
   "source": [
    "# Store Arabic → English translations\n",
    "ar_to_en_data = ar_to_en_data.copy()\n",
    "ar_to_en_data['trained_model_english'] = all_trained_ar_to_en\n",
    "ar_to_en_data['untrained_model_english'] = all_untrained_ar_to_en\n",
    "\n",
    "# Prepare data for BLEU evaluation (Arabic → English)\n",
    "print(\"📊 Computing BLEU scores for Arabic → English translation...\")\n",
    "\n",
    "ar_predictions_untrained = ar_to_en_data['untrained_model_english'].tolist()\n",
    "ar_predictions_trained = ar_to_en_data['trained_model_english'].tolist()\n",
    "ar_references_raw = ar_to_en_data['en'].tolist()\n",
    "\n",
    "# Format for BLEU computation\n",
    "ar_references = [[ref] for ref in ar_references_raw]\n",
    "ar_predictions_untrained = [str(pred) for pred in ar_predictions_untrained]\n",
    "ar_predictions_trained = [str(pred) for pred in ar_predictions_trained]\n",
    "ar_references = [[str(ref)] for ref in ar_references_raw]\n",
    "\n",
    "# Compute BLEU scores\n",
    "ar_original_bleu = bleu.compute(\n",
    "    predictions=ar_predictions_untrained,\n",
    "    references=ar_references,\n",
    ")\n",
    "\n",
    "ar_trained_bleu = bleu.compute(\n",
    "    predictions=ar_predictions_trained,\n",
    "    references=ar_references,\n",
    ")\n",
    "\n",
    "print(\"✅ Arabic → English BLEU computation completed!\")"
   ]
  },
  {
   "cell_type": "markdown",
   "id": "65f88613-1895-410f-810d-546f946f1154",
   "metadata": {},
   "source": [
    "## 🎯 Complete Bidirectional Translation Results\n",
    "\n",
    "Final comparison of our fine-tuning results across both translation directions:"
   ]
  },
  {
   "cell_type": "code",
   "execution_count": 45,
   "id": "685e2623-635f-4556-9be3-bcf86d427782",
   "metadata": {},
   "outputs": [
    {
     "name": "stdout",
     "output_type": "stream",
     "text": [
      "🌍 COMPLETE BIDIRECTIONAL TRANSLATION EVALUATION\n",
      "============================================================\n",
      "\n",
      "📊 ENGLISH → ARABIC RESULTS:\n",
      "------------------------------\n",
      "🤖 Original Model:\n",
      "{\n",
      "  \"bleu\": 0.04095130155220747,\n",
      "  \"precisions\": [\n",
      "    0.27650206597575017,\n",
      "    0.07137348383930449,\n",
      "    0.02172491462617162,\n",
      "    0.006559601900022619\n",
      "  ],\n",
      "  \"brevity_penalty\": 1.0,\n",
      "  \"length_ratio\": 1.129706152433425,\n",
      "  \"translation_length\": 14763,\n",
      "  \"reference_length\": 13068\n",
      "}\n",
      "\n",
      "🔥 Fine-tuned Model:\n",
      "{\n",
      "  \"bleu\": 0.1251646739834074,\n",
      "  \"precisions\": [\n",
      "    0.4462803320561941,\n",
      "    0.18548387096774194,\n",
      "    0.08501040943789036,\n",
      "    0.04143997098295248\n",
      "  ],\n",
      "  \"brevity_penalty\": 0.9578123009106891,\n",
      "  \"length_ratio\": 0.9586776859504132,\n",
      "  \"translation_length\": 12528,\n",
      "  \"reference_length\": 13068\n",
      "}\n",
      "\n",
      "📈 EN→AR Improvement: +0.0842 (205.6%)\n",
      "\n",
      "📊 ARABIC → ENGLISH RESULTS:\n",
      "------------------------------\n",
      "🤖 Original Model:\n",
      "{\n",
      "  \"bleu\": 0.0017288444268053257,\n",
      "  \"precisions\": [\n",
      "    0.13921317767471614,\n",
      "    0.004247876061969015,\n",
      "    0.0007822005909960021,\n",
      "    0.0002725538293813028\n",
      "  ],\n",
      "  \"brevity_penalty\": 0.5159412616096217,\n",
      "  \"length_ratio\": 0.6017707631604273,\n",
      "  \"translation_length\": 12506,\n",
      "  \"reference_length\": 20782\n",
      "}\n",
      "\n",
      "🔥 Fine-tuned Model:\n",
      "{\n",
      "  \"bleu\": 0.15442453834231745,\n",
      "  \"precisions\": [\n",
      "    0.5233875653689716,\n",
      "    0.21700079396585947,\n",
      "    0.09993893751272136,\n",
      "    0.05137844611528822\n",
      "  ],\n",
      "  \"brevity_penalty\": 0.9937249808329195,\n",
      "  \"length_ratio\": 0.993744586661534,\n",
      "  \"translation_length\": 20652,\n",
      "  \"reference_length\": 20782\n",
      "}\n",
      "\n",
      "📈 AR→EN Improvement: +0.1527 (8832.2%)\n",
      "\n",
      "🏆 OVERALL SUMMARY:\n",
      "==============================\n",
      "📊 Average Original BLEU: 0.0213\n",
      "🔥 Average Fine-tuned BLEU: 0.1398\n",
      "📈 Average Improvement: +0.1185\n",
      "\n",
      "📝 SAMPLE TRANSLATION COMPARISON:\n",
      "========================================\n",
      "\n",
      "🔤 English → Arabic Example:\n",
      "Input: What appears from these words is that the nerve exits in the first vertebra from above, and this was invalidated in his words in the first vertebra, and it is apparently invalidated by what he said in his words in the first vertebra.\n",
      "Reference: الذي يظهر من هذا الكلام أن مخرج العصب في الفقرة الأولى من فوق وهذا قد أبطله في كلامه في الفقرة الأولى وهو ظاهر البطلان بما قاله في كلامه في الفقرة الأولى.\n",
      "Pre-trained: ما يظهر من هذه الكلمات هو أن الاعصاب تخرج من العمود الفقري الأول من الأعلى، وقد كان هذا غير صالحاً في كلماته في الجذع الأول، ومن الواضح أنه غير صحيح بما قاله من خلال كلماتها في الرّمنة الأولى.\n",
      "Fine-tuned: وما يظهر من هذه الألفاظ أن العصب يخرج من الفقرة الأولى من فوق، وهذا باطل في كلامه من الفقار الأول، وهو ظاهرا باطل بما قال به من قوله من جملته من الجذع الأول.\n",
      "\n",
      "🔤 Arabic → English Example:\n",
      "Input: [كيفية الدخول على الملك] وإن كان دخوله عليه من الباب الأول الذي يقابل وجه الملك ويحاذيه - وكان له طريق عن يمينه أو شماله - عدل نحو الطريق الذي لا يقابله فيه بوجهه، ثم انحرف نحو مجلس الملك، فسلم قائما ملاحظا للملك.\n",
      "Reference: [How to enter upon the king] If he enters upon him from the first door that faces the king’s face and is parallel to him - and he has a path to his right or left - he turns towards the path that does not face him, then turns towards the king’s seat, and greets him while standing and observing the king.\n",
      "Pre-trained: [كيفية الدخول on الملك] وإن كان دخوله عليه من الباب الأول الذي يقابل وجه الملك andيحاذيه - وكان له طريق عن يمينه أو شماله - عدل نحو الطريق الذي لا ي قابله فيه بوجهه, ثم انحرف نحو مجلس الملك, فسلم قائما ملاحظا للملك.\n",
      "Fine-tuned: [The manner of entering on the king] If it is from the first door that enters it, and that meets the King’s point and his permission - and it has a way from his sin or his north - it should be towards the way that does not meet it by side, then it turns to the royal congress, so the permission is given in a state of control for the master.\n"
     ]
    }
   ],
   "source": [
    "print('🌍 COMPLETE BIDIRECTIONAL TRANSLATION EVALUATION')\n",
    "print('=' * 60)\n",
    "\n",
    "print('\\n📊 ENGLISH → ARABIC RESULTS:')\n",
    "print('-' * 30)\n",
    "print('🤖 Original Model:')\n",
    "print(json.dumps(original_bleu, indent=2))\n",
    "print('\\n🔥 Fine-tuned Model:')\n",
    "print(json.dumps(trained_bleu, indent=2))\n",
    "\n",
    "en_ar_improvement = trained_bleu['bleu'] - original_bleu['bleu']\n",
    "print(f'\\n📈 EN→AR Improvement: +{en_ar_improvement:.4f} ({en_ar_improvement/original_bleu[\"bleu\"]*100:.1f}%)')\n",
    "\n",
    "print('\\n📊 ARABIC → ENGLISH RESULTS:')\n",
    "print('-' * 30)\n",
    "print('🤖 Original Model:')\n",
    "print(json.dumps(ar_original_bleu, indent=2))\n",
    "print('\\n🔥 Fine-tuned Model:')\n",
    "print(json.dumps(ar_trained_bleu, indent=2))\n",
    "\n",
    "ar_en_improvement = ar_trained_bleu['bleu'] - ar_original_bleu['bleu']\n",
    "print(f'\\n📈 AR→EN Improvement: +{ar_en_improvement:.4f} ({ar_en_improvement/ar_original_bleu[\"bleu\"]*100:.1f}%)')\n",
    "\n",
    "print('\\n🏆 OVERALL SUMMARY:')\n",
    "print('=' * 30)\n",
    "print(f'📊 Average Original BLEU: {(original_bleu[\"bleu\"] + ar_original_bleu[\"bleu\"])/2:.4f}')\n",
    "print(f'🔥 Average Fine-tuned BLEU: {(trained_bleu[\"bleu\"] + ar_trained_bleu[\"bleu\"])/2:.4f}')\n",
    "avg_improvement = (en_ar_improvement + ar_en_improvement) / 2\n",
    "print(f'📈 Average Improvement: +{avg_improvement:.4f}')\n",
    "\n",
    "# Qualitative examples\n",
    "print('\\n📝 SAMPLE TRANSLATION COMPARISON:')\n",
    "print('=' * 40)\n",
    "\n",
    "print('\\n🔤 English → Arabic Example:')\n",
    "sample_en = en_to_ar_data.iloc[0]\n",
    "print(f\"Input: {sample_en['en']}\")\n",
    "print(f\"Reference: {sample_en['ar']}\")\n",
    "print(f\"Pre-trained: {sample_en['untrained_model_arabic']}\")\n",
    "print(f\"Fine-tuned: {sample_en['trained_model_arabic']}\")\n",
    "\n",
    "print('\\n🔤 Arabic → English Example:')\n",
    "sample_ar = ar_to_en_data.iloc[0]\n",
    "print(f\"Input: {sample_ar['ar']}\")\n",
    "print(f\"Reference: {sample_ar['en']}\")\n",
    "print(f\"Pre-trained: {sample_ar['untrained_model_english']}\")\n",
    "print(f\"Fine-tuned: {sample_ar['trained_model_english']}\")"
   ]
  },
  {
   "cell_type": "markdown",
   "id": "08cbc950-e143-4a7d-9b82-8219252e75c7",
   "metadata": {},
   "source": [
    "## 🔹 Exercise: Advanced Fine-tuning Experiments\n",
    "\n",
    "### 📝 Suggested Improvements to Try:\n",
    "\n",
    "1. **Increase Training Data**: \n",
    "   - Use the full dataset (not just 5K samples)\n",
    "   - Observe how performance scales with data size\n",
    "\n",
    "2. **Hyperparameter Tuning**:\n",
    "   - Try different learning rates (1e-5, 2e-5, 1e-4)\n",
    "   - Experiment with different batch sizes\n",
    "   - Adjust the number of training epochs\n",
    "\n",
    "3. **Advanced Generation Parameters**:\n",
    "   - Experiment with different beam sizes (2, 6, 8)\n",
    "   - Try temperature sampling vs beam search\n",
    "   - Test different max_length values\n",
    "\n",
    "4. **Data Augmentation**:\n",
    "   - Add noise to input text\n",
    "   - Try back-translation augmentation\n",
    "   - Experiment with different prompting strategies\n",
    "\n",
    "5. **Evaluation Metrics**:\n",
    "   - Implement ROUGE scores\n",
    "   - Add METEOR evaluation\n",
    "   - Try BERTScore for semantic similarity\n",
    "\n",
    "### 📊 Questions to Explore:\n",
    "- How does the model perform on longer sentences?\n",
    "- What types of sentences show the most improvement?\n",
    "- Does the model maintain consistency across different domains?"
   ]
  },
  {
   "cell_type": "markdown",
   "id": "3995f4e4-6470-4f29-a9a3-9f96af5b9764",
   "metadata": {},
   "source": [
    "### Contributed by: Ali Habibullah"
   ]
  }
 ],
 "metadata": {
  "kernelspec": {
   "display_name": "Python 3 (ipykernel)",
   "language": "python",
   "name": "python3"
  },
  "language_info": {
   "codemirror_mode": {
    "name": "ipython",
    "version": 3
   },
   "file_extension": ".py",
   "mimetype": "text/x-python",
   "name": "python",
   "nbconvert_exporter": "python",
   "pygments_lexer": "ipython3",
   "version": "3.9.19"
  }
 },
 "nbformat": 4,
 "nbformat_minor": 5
}
