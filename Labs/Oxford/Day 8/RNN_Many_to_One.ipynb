{
  "cells": [
    {
      "cell_type": "markdown",
      "metadata": {
        "id": "6Kqo-3hqS7Os"
      },
      "source": [
        "# 🌍 Character-Level Language Classification with RNN\n",
        "\n",
        "Welcome! 👋  \n",
        "In this notebook, we will build a character-level Recurrent Neural Network (RNN) that learns to classify the **language of a surname**. This is a hands-on project based on PyTorch's official tutorial, designed to teach:\n",
        "\n",
        "---\n",
        "\n",
        "## 🎯 Objectives\n",
        "By the end of this notebook, you will be able to:\n",
        "- Load and preprocess multilingual text data.\n",
        "- Convert names into tensor representations suitable for neural networks.\n",
        "- Build and train a character-level RNN using PyTorch.\n",
        "- Evaluate your model’s performance using accuracy and a confusion matrix.\n",
        "- Make predictions on new, unseen surnames.\n",
        "\n",
        "---\n",
        "\n",
        "## 🧠 What You Will Learn\n",
        "- How to normalize Unicode text for model compatibility.\n",
        "- How to work with variable-length sequences in PyTorch.\n",
        "- How to design a simple RNN for sequence classification.\n",
        "- How to evaluate classification models both quantitatively and visually.\n",
        "- How to run custom inference for real-world inputs.\n",
        "\n",
        "---\n",
        "\n",
        "## 📂 Dataset Description\n",
        "The dataset consists of several text files, each named after a language (e.g., `Arabic.txt`, `English.txt`, etc.). Each file contains a list of surnames commonly associated with that language.\n",
        "\n",
        "- ✅ **Input**: A surname (e.g., `\"Haddad\"`)\n",
        "- 🎯 **Goal**: Predict the correct language label (e.g., `\"Arabic\"`)\n",
        "\n",
        "---\n",
        "\n",
        "## 🧭 Notebook Structure\n",
        "This notebook is organized into the following steps:\n",
        "\n",
        "1. **Dataset Download and Setup**\n",
        "2. **Text Normalization & Preprocessing**\n",
        "3. **Custom PyTorch Dataset Definition**\n",
        "4. **Character-Level RNN Model**\n",
        "5. **Model Training with Accuracy Tracking**\n",
        "6. **Model Evaluation & Visualization**\n",
        "7. **Real-Time Inference on User Input**\n",
        "\n",
        "---\n",
        "\n",
        "Let’s dive in! 🔥\n"
      ]
    },
    {
      "cell_type": "markdown",
      "source": [
        "### 📥 Step 1: Download and Unzip the Dataset\n",
        "This cell downloads a zip file containing the names dataset provided by PyTorch's official tutorials.\n",
        "The dataset includes multiple `.txt` files, each named after a language and containing a list of surnames from that language.\n"
      ],
      "metadata": {
        "id": "z6bdz_A75RJD"
      }
    },
    {
      "cell_type": "code",
      "source": [
        "!wget -q https://download.pytorch.org/tutorial/data.zip\n",
        "!unzip -q data.zip"
      ],
      "metadata": {
        "id": "hHrjNboLlbDS"
      },
      "execution_count": null,
      "outputs": []
    },
    {
      "cell_type": "markdown",
      "source": [
        "### 🧰 Step 2: Import Required Libraries\n",
        "We import essential Python libraries:\n",
        "- `string`, `unicodedata`, and `os` for text and file processing.\n",
        "- `torch`, `nn`, and `Dataset` for model building and data handling.\n",
        "- `matplotlib` for visualizing results like training loss and confusion matrix.\n"
      ],
      "metadata": {
        "id": "TFNiOjXP5T42"
      }
    },
    {
      "cell_type": "code",
      "source": [
        "import string\n",
        "import unicodedata\n",
        "from io import open\n",
        "import glob\n",
        "import os\n",
        "import time\n",
        "import random\n",
        "import numpy as np\n",
        "import torch\n",
        "from torch.utils.data import Dataset\n",
        "import torch.nn as nn\n",
        "import torch.nn.functional as F\n",
        "import matplotlib.pyplot as plt\n",
        "import matplotlib.ticker as ticker"
      ],
      "metadata": {
        "id": "-neR6u5gN6st"
      },
      "execution_count": null,
      "outputs": []
    },
    {
      "cell_type": "markdown",
      "source": [
        "### 🔤 Step 3: Normalize Unicode Text to ASCII\n",
        "Many names may contain accented characters (e.g., \"José\", \"René\").\n",
        "To simplify the model’s input, we define a function that converts these to plain ASCII (\"Jose\", \"Rene\").\n",
        "We also define a set of allowed characters and represent out-of-vocabulary characters using \"_\".\n",
        "\n",
        "\n",
        "We convert Unicode to ASCII to:\n",
        "- Keep character vocabulary small and efficient\n",
        "- Remove accents/symbols that may confuse the model\n",
        "- Prevent errors from unseen Unicode at inference time\n",
        "- Ensure consistent inputs (e.g., é → e)\n",
        "- Simplify training and improve generalization\n"
      ],
      "metadata": {
        "id": "5M7LzC-2mG8Z"
      }
    },
    {
      "cell_type": "code",
      "source": [
        "# We can use \"_\" to represent an out-of-vocabulary character, that is, any character we are not handling in our model\n",
        "#String of allowed chars\n",
        "allowed_characters = string.ascii_letters + \" .,;'\" + \"_\"\n",
        "n_letters = len(allowed_characters)\n",
        "\n",
        "# Turn a Unicode string to plain ASCII, thanks to https://stackoverflow.com/a/518232/2809427\n",
        "# So, this function basiclly takes unicode word (ex; Café ) and convert it to (Cafe)\n",
        "def unicodeToAscii(s):\n",
        "    return ''.join(\n",
        "        c for c in unicodedata.normalize('NFD', s)\n",
        "        if unicodedata.category(c) != 'Mn'\n",
        "        and c in allowed_characters\n",
        "    )"
      ],
      "metadata": {
        "id": "MYShKLgzOGQU"
      },
      "execution_count": null,
      "outputs": []
    },
    {
      "cell_type": "code",
      "source": [
        "#Example of how it works\n",
        "print (f\"converting 'Ślusàrski' to {unicodeToAscii('Ślusàrski')}\")"
      ],
      "metadata": {
        "colab": {
          "base_uri": "https://localhost:8080/"
        },
        "id": "ZO9fKl87OJ32",
        "outputId": "3cc137a8-2a64-49d3-8b54-e85c84688226"
      },
      "execution_count": null,
      "outputs": [
        {
          "output_type": "stream",
          "name": "stdout",
          "text": [
            "converting 'Ślusàrski' to Slusarski\n"
          ]
        }
      ]
    },
    {
      "cell_type": "markdown",
      "source": [
        "### 🔢 Step 4: Convert Character to Index\n",
        "This function maps each character to its index in the allowed character list.\n",
        "If a character is not in the list (e.g., emoji or symbol), it is mapped to the \"_\" index.\n",
        "This index is used to create one-hot vectors later.\n"
      ],
      "metadata": {
        "id": "YACqfBDp6BgF"
      }
    },
    {
      "cell_type": "code",
      "source": [
        "# Find letter index from all_letters, e.g. \"a\" = 0\n",
        "def letterToIndex(letter):\n",
        "    # return our out-of-vocabulary character if we encounter a letter unknown to our model\n",
        "    if letter not in allowed_characters:\n",
        "        return allowed_characters.find(\"_\")\n",
        "    else:\n",
        "        return allowed_characters.find(letter)"
      ],
      "metadata": {
        "id": "QmPGMmTqo0s3"
      },
      "execution_count": null,
      "outputs": []
    },
    {
      "cell_type": "markdown",
      "source": [
        "### 📐 Step 5: Convert Full Name to Tensor\n",
        "This function converts an entire name (e.g., \"Ali\") into a 3D tensor:\n",
        "- Shape: `(sequence_length, 1, n_letters)`\n",
        "- Each character is represented as a one-hot encoded vector across the allowed character set.\n"
      ],
      "metadata": {
        "id": "EsVKGaxW6Q3-"
      }
    },
    {
      "cell_type": "code",
      "source": [
        "# Turn a line into a <line_length x 1 x n_letters>,\n",
        "# or an array of one-hot letter vectors\n",
        "def lineToTensor(line):\n",
        "    tensor = torch.zeros(len(line), 1, n_letters)\n",
        "    for li, letter in enumerate(line):\n",
        "        tensor[li][0][letterToIndex(letter)] = 1\n",
        "    return tensor"
      ],
      "metadata": {
        "id": "hkq5AgvkOMxj"
      },
      "execution_count": null,
      "outputs": []
    },
    {
      "cell_type": "code",
      "source": [
        "print (f\"The letter 'a' becomes {lineToTensor('_')}\") #notice that the first position in the tensor = 1\n",
        "print (f\"The name 'Ahn' becomes :\\n{lineToTensor('Ahn')}\") #notice 'A' sets the 27th index to 1"
      ],
      "metadata": {
        "colab": {
          "base_uri": "https://localhost:8080/"
        },
        "id": "uqRcJ3gKOOjv",
        "outputId": "a8708bc2-2bb3-40d2-a726-e853890c5d35"
      },
      "execution_count": null,
      "outputs": [
        {
          "output_type": "stream",
          "name": "stdout",
          "text": [
            "The letter 'a' becomes tensor([[[0., 0., 0., 0., 0., 0., 0., 0., 0., 0., 0., 0., 0., 0., 0., 0., 0.,\n",
            "          0., 0., 0., 0., 0., 0., 0., 0., 0., 0., 0., 0., 0., 0., 0., 0., 0.,\n",
            "          0., 0., 0., 0., 0., 0., 0., 0., 0., 0., 0., 0., 0., 0., 0., 0., 0.,\n",
            "          0., 0., 0., 0., 0., 0., 1.]]])\n",
            "The name 'Ahn' becomes :\n",
            "tensor([[[0., 0., 0., 0., 0., 0., 0., 0., 0., 0., 0., 0., 0., 0., 0., 0., 0.,\n",
            "          0., 0., 0., 0., 0., 0., 0., 0., 0., 1., 0., 0., 0., 0., 0., 0., 0.,\n",
            "          0., 0., 0., 0., 0., 0., 0., 0., 0., 0., 0., 0., 0., 0., 0., 0., 0.,\n",
            "          0., 0., 0., 0., 0., 0., 0.]],\n",
            "\n",
            "        [[0., 0., 0., 0., 0., 0., 0., 1., 0., 0., 0., 0., 0., 0., 0., 0., 0.,\n",
            "          0., 0., 0., 0., 0., 0., 0., 0., 0., 0., 0., 0., 0., 0., 0., 0., 0.,\n",
            "          0., 0., 0., 0., 0., 0., 0., 0., 0., 0., 0., 0., 0., 0., 0., 0., 0.,\n",
            "          0., 0., 0., 0., 0., 0., 0.]],\n",
            "\n",
            "        [[0., 0., 0., 0., 0., 0., 0., 0., 0., 0., 0., 0., 0., 1., 0., 0., 0.,\n",
            "          0., 0., 0., 0., 0., 0., 0., 0., 0., 0., 0., 0., 0., 0., 0., 0., 0.,\n",
            "          0., 0., 0., 0., 0., 0., 0., 0., 0., 0., 0., 0., 0., 0., 0., 0., 0.,\n",
            "          0., 0., 0., 0., 0., 0., 0.]]])\n"
          ]
        }
      ]
    },
    {
      "cell_type": "markdown",
      "source": [
        "### 📦 Step 6: Create a Custom Dataset Class\n",
        "We create a PyTorch-compatible `Dataset` that:\n",
        "- Loads all `.txt` files in the `data/names/` folder.\n",
        "- Converts each name into a tensor and assigns it a label based on the filename.\n",
        "- Stores both the raw text and its tensor representation.\n",
        "This allows us to easily use this dataset with PyTorch's training pipeline.\n"
      ],
      "metadata": {
        "id": "61ybssj86Y7R"
      }
    },
    {
      "cell_type": "code",
      "source": [
        "class NamesDataset(Dataset):\n",
        "    def __init__(self, data_dir):\n",
        "        self.data_dir = data_dir #for provenance of the dataset\n",
        "        self.load_time = time.localtime #for provenance of the dataset\n",
        "        labels_set = set() #set of all classes\n",
        "\n",
        "        self.data = []\n",
        "        self.data_tensors = []\n",
        "        self.labels = []\n",
        "        self.labels_tensors = []\n",
        "\n",
        "        #read all the ``.txt`` files in the specified directory\n",
        "        text_files = glob.glob(os.path.join(data_dir, '*.txt'))\n",
        "        for filename in text_files:\n",
        "            label = os.path.splitext(os.path.basename(filename))[0]\n",
        "            labels_set.add(label)\n",
        "            lines = open(filename, encoding='utf-8').read().strip().split('\\n')\n",
        "            for name in lines:\n",
        "                self.data.append(name)\n",
        "                self.data_tensors.append(lineToTensor(name))\n",
        "                self.labels.append(label)\n",
        "\n",
        "        #Cache the tensor representation of the labels\n",
        "        self.labels_uniq = list(labels_set)\n",
        "        for idx in range(len(self.labels)):\n",
        "            temp_tensor = torch.tensor([self.labels_uniq.index(self.labels[idx])], dtype=torch.long)\n",
        "            self.labels_tensors.append(temp_tensor)\n",
        "\n",
        "    def __len__(self):\n",
        "        return len(self.data)\n",
        "\n",
        "    def __getitem__(self, idx):\n",
        "        data_item = self.data[idx]\n",
        "        data_label = self.labels[idx]\n",
        "        data_tensor = self.data_tensors[idx]\n",
        "        label_tensor = self.labels_tensors[idx]\n",
        "\n",
        "        return label_tensor, data_tensor, data_label, data_item"
      ],
      "metadata": {
        "id": "QJ2g8kRTOQp4"
      },
      "execution_count": null,
      "outputs": []
    },
    {
      "cell_type": "markdown",
      "source": [
        "### 🧪 Step 7: Load the Dataset and Inspect\n",
        "We create an instance of our `NamesDataset` and print out one example to verify that:\n",
        "- The data is loaded correctly.\n",
        "- Each name has been converted to a tensor.\n",
        "- The label is correctly associated.\n"
      ],
      "metadata": {
        "id": "G_wJU_N264H_"
      }
    },
    {
      "cell_type": "code",
      "source": [
        "alldata = NamesDataset(\"data/names\")\n",
        "print(f\"loaded {len(alldata)} items of data\")\n",
        "print(f\"example = {alldata[0]}\")"
      ],
      "metadata": {
        "colab": {
          "base_uri": "https://localhost:8080/"
        },
        "id": "_UcJZrivOWac",
        "outputId": "44ef83b2-2538-47be-c4b5-7356201c86f8"
      },
      "execution_count": null,
      "outputs": [
        {
          "output_type": "stream",
          "name": "stdout",
          "text": [
            "loaded 20074 items of data\n",
            "example = (tensor([9]), tensor([[[0., 0., 0., 0., 0., 0., 0., 0., 0., 0., 0., 0., 0., 0., 0., 0., 0.,\n",
            "          0., 0., 0., 0., 0., 0., 0., 0., 0., 0., 0., 0., 0., 0., 0., 0., 0.,\n",
            "          0., 0., 0., 0., 0., 0., 0., 0., 0., 0., 1., 0., 0., 0., 0., 0., 0.,\n",
            "          0., 0., 0., 0., 0., 0., 0.]],\n",
            "\n",
            "        [[0., 0., 0., 0., 0., 0., 0., 0., 0., 0., 0., 0., 1., 0., 0., 0., 0.,\n",
            "          0., 0., 0., 0., 0., 0., 0., 0., 0., 0., 0., 0., 0., 0., 0., 0., 0.,\n",
            "          0., 0., 0., 0., 0., 0., 0., 0., 0., 0., 0., 0., 0., 0., 0., 0., 0.,\n",
            "          0., 0., 0., 0., 0., 0., 0.]],\n",
            "\n",
            "        [[0., 0., 0., 0., 0., 0., 0., 0., 1., 0., 0., 0., 0., 0., 0., 0., 0.,\n",
            "          0., 0., 0., 0., 0., 0., 0., 0., 0., 0., 0., 0., 0., 0., 0., 0., 0.,\n",
            "          0., 0., 0., 0., 0., 0., 0., 0., 0., 0., 0., 0., 0., 0., 0., 0., 0.,\n",
            "          0., 0., 0., 0., 0., 0., 0.]],\n",
            "\n",
            "        [[0., 0., 0., 0., 0., 0., 0., 0., 0., 0., 0., 0., 0., 0., 0., 0., 0.,\n",
            "          0., 0., 1., 0., 0., 0., 0., 0., 0., 0., 0., 0., 0., 0., 0., 0., 0.,\n",
            "          0., 0., 0., 0., 0., 0., 0., 0., 0., 0., 0., 0., 0., 0., 0., 0., 0.,\n",
            "          0., 0., 0., 0., 0., 0., 0.]],\n",
            "\n",
            "        [[0., 0., 0., 0., 0., 0., 0., 1., 0., 0., 0., 0., 0., 0., 0., 0., 0.,\n",
            "          0., 0., 0., 0., 0., 0., 0., 0., 0., 0., 0., 0., 0., 0., 0., 0., 0.,\n",
            "          0., 0., 0., 0., 0., 0., 0., 0., 0., 0., 0., 0., 0., 0., 0., 0., 0.,\n",
            "          0., 0., 0., 0., 0., 0., 0.]]]), 'Scottish', 'Smith')\n"
          ]
        }
      ]
    },
    {
      "cell_type": "markdown",
      "source": [
        "### 🔀 Step 8: Split Dataset into Training and Validation Sets\n",
        "To evaluate generalization, we split the dataset:\n",
        "- 85% for training\n",
        "- 15% for validation/testing\n",
        "We ensure reproducibility using a seeded random generator and make the generator device-aware (e.g., CUDA vs CPU).\n"
      ],
      "metadata": {
        "id": "MYZqsQ8168HZ"
      }
    },
    {
      "cell_type": "code",
      "source": [
        "device = torch.device(\"cuda\" if torch.cuda.is_available() else \"cpu\")\n",
        "train_set, test_set = torch.utils.data.random_split(alldata, [.85, .15], generator=torch.Generator(device=device).manual_seed(2024))\n",
        "\n",
        "print(f\"train examples = {len(train_set)}, validation examples = {len(test_set)}\")"
      ],
      "metadata": {
        "colab": {
          "base_uri": "https://localhost:8080/"
        },
        "id": "exPoHM9sOZlq",
        "outputId": "cfc01448-7d29-48ba-f2a7-15b37c4ca9a1"
      },
      "execution_count": null,
      "outputs": [
        {
          "output_type": "stream",
          "name": "stdout",
          "text": [
            "train examples = 17063, validation examples = 3011\n"
          ]
        }
      ]
    },
    {
      "cell_type": "markdown",
      "source": [
        "### 🧠 Step 9: Define the CharRNN Model\n",
        "We define a character-level RNN model with the following components:\n",
        "- An `nn.RNN` layer that processes character sequences.\n",
        "- A fully connected layer to project hidden states to class scores.\n",
        "- A `LogSoftmax` layer to get log-probabilities over the possible languages.\n"
      ],
      "metadata": {
        "id": "zoWYY-8x7AVa"
      }
    },
    {
      "cell_type": "code",
      "source": [
        "class CharRNN(nn.Module):\n",
        "    def __init__(self, input_size, hidden_size, output_size):\n",
        "        super(CharRNN, self).__init__()\n",
        "\n",
        "        self.rnn = nn.RNN(input_size, hidden_size)\n",
        "        self.h2o = nn.Linear(hidden_size, output_size)\n",
        "        self.softmax = nn.LogSoftmax(dim=1)\n",
        "\n",
        "    def forward(self, line_tensor):\n",
        "        rnn_out, hidden = self.rnn(line_tensor)\n",
        "        output = self.h2o(hidden[0])\n",
        "        output = self.softmax(output)\n",
        "\n",
        "        return output"
      ],
      "metadata": {
        "id": "EKgRqmQzOfGW"
      },
      "execution_count": null,
      "outputs": []
    },
    {
      "cell_type": "markdown",
      "source": [
        "### 🏗️ Step 10: Instantiate the Model\n",
        "We initialize the `CharRNN` model with:\n",
        "- Input size equal to number of characters (`n_letters`)\n",
        "- Hidden size (e.g., 128)\n",
        "- Output size equal to the number of languages/classes in the dataset\n"
      ],
      "metadata": {
        "id": "yh0JZyUv7Fn5"
      }
    },
    {
      "cell_type": "code",
      "source": [
        "n_hidden = 128\n",
        "rnn = CharRNN(n_letters, n_hidden, len(alldata.labels_uniq))\n",
        "print(rnn)"
      ],
      "metadata": {
        "colab": {
          "base_uri": "https://localhost:8080/"
        },
        "id": "vjBCozx1OjrT",
        "outputId": "1433022b-0e6a-43d7-a0ec-ae53e79cebfc"
      },
      "execution_count": null,
      "outputs": [
        {
          "output_type": "stream",
          "name": "stdout",
          "text": [
            "CharRNN(\n",
            "  (rnn): RNN(58, 128)\n",
            "  (h2o): Linear(in_features=128, out_features=18, bias=True)\n",
            "  (softmax): LogSoftmax(dim=1)\n",
            ")\n"
          ]
        }
      ]
    },
    {
      "cell_type": "markdown",
      "source": [
        "### 🔍 Step 11: Quick Test on a Sample Name\n",
        "We run a forward pass on a sample name (e.g., \"Albert\") to:\n",
        "- Check the shape and content of model output.\n",
        "- Verify the predicted language label using `label_from_output`, which returns the most likely class.\n"
      ],
      "metadata": {
        "id": "nm3Brthh7Nku"
      }
    },
    {
      "cell_type": "code",
      "source": [
        "def label_from_output(output, output_labels):\n",
        "    top_n, top_i = output.topk(1)\n",
        "    label_i = top_i[0].item()\n",
        "    return output_labels[label_i], label_i\n",
        "\n",
        "input = lineToTensor('Albert')\n",
        "output = rnn(input) #this is equivalent to ``output = rnn.forward(input)``\n",
        "print(output)\n",
        "print(label_from_output(output, alldata.labels_uniq))"
      ],
      "metadata": {
        "colab": {
          "base_uri": "https://localhost:8080/"
        },
        "id": "JZXRUYPeOlCO",
        "outputId": "3a15dd3c-5049-492c-c094-dfaa722f1d8c"
      },
      "execution_count": null,
      "outputs": [
        {
          "output_type": "stream",
          "name": "stdout",
          "text": [
            "tensor([[-2.8695, -2.8813, -2.8800, -3.1537, -3.0397, -2.8399, -2.9848, -2.8861,\n",
            "         -2.9483, -2.9309, -2.8871, -2.9624, -2.8175, -2.9020, -2.7769, -2.6655,\n",
            "         -2.8797, -2.8146]], grad_fn=<LogSoftmaxBackward0>)\n",
            "('Irish', 15)\n"
          ]
        }
      ]
    },
    {
      "cell_type": "markdown",
      "source": [
        "### 🏋️ Step 12: Train the Model with Accuracy and Progress Tracking\n",
        "We define a training loop that:\n",
        "- Uses manual batching to handle variable-length input names.\n",
        "- Uses SGD for optimization and clips gradients to prevent exploding gradients.\n",
        "- Tracks training and test loss + accuracy for every epoch.\n",
        "- Adds a `tqdm` progress bar for better visibility during training.\n",
        "- Evaluates on the test set after each epoch for clear learning feedback.\n"
      ],
      "metadata": {
        "id": "D4ttXlX37oRN"
      }
    },
    {
      "cell_type": "code",
      "source": [
        "from tqdm import tqdm\n",
        "\n",
        "def train(rnn, training_data, testing_data, n_epoch=10, n_batch_size=64, learning_rate=0.2, criterion=nn.NLLLoss()):\n",
        "    \"\"\"\n",
        "    Train the CharRNN and report train/test loss and accuracy per epoch.\n",
        "    \"\"\"\n",
        "    rnn.train()\n",
        "    optimizer = torch.optim.SGD(rnn.parameters(), lr=learning_rate)\n",
        "\n",
        "    train_losses, test_losses = [], []\n",
        "    train_accuracies, test_accuracies = [], []\n",
        "\n",
        "    for epoch in range(1, n_epoch + 1):\n",
        "        rnn.train()\n",
        "        total_train_loss = 0\n",
        "        correct_train = 0\n",
        "        total_train = 0\n",
        "\n",
        "        # Shuffle and batch training data manually\n",
        "        indices = list(range(len(training_data)))\n",
        "        random.shuffle(indices)\n",
        "        batches = np.array_split(indices, len(indices) // n_batch_size)\n",
        "\n",
        "        for batch in tqdm(batches, desc=f\"Epoch {epoch}/{n_epoch}\", leave=False):\n",
        "            batch_loss = 0\n",
        "            batch_correct = 0\n",
        "\n",
        "            optimizer.zero_grad()\n",
        "            for i in batch:\n",
        "                label_tensor, text_tensor, label, text = training_data[i]\n",
        "                output = rnn(text_tensor)\n",
        "                loss = criterion(output, label_tensor)\n",
        "                batch_loss += loss\n",
        "\n",
        "                # Accuracy calculation\n",
        "                pred_label, _ = label_from_output(output, alldata.labels_uniq)\n",
        "                if pred_label == label:\n",
        "                    batch_correct += 1\n",
        "\n",
        "            # Backpropagation\n",
        "            batch_loss.backward()\n",
        "            nn.utils.clip_grad_norm_(rnn.parameters(), 3)\n",
        "            optimizer.step()\n",
        "\n",
        "            avg_loss = batch_loss.item() / len(batch)\n",
        "            total_train_loss += avg_loss\n",
        "            correct_train += batch_correct\n",
        "            total_train += len(batch)\n",
        "\n",
        "        train_losses.append(total_train_loss / len(batches))\n",
        "        train_accuracies.append(correct_train / total_train)\n",
        "\n",
        "        # --- Evaluation ---\n",
        "        rnn.eval()\n",
        "        total_test_loss = 0\n",
        "        correct_test = 0\n",
        "        with torch.no_grad():\n",
        "            for i in range(len(testing_data)):\n",
        "                label_tensor, text_tensor, label, text = testing_data[i]\n",
        "                output = rnn(text_tensor)\n",
        "                loss = criterion(output, label_tensor)\n",
        "                total_test_loss += loss.item()\n",
        "\n",
        "                pred_label, _ = label_from_output(output, alldata.labels_uniq)\n",
        "                if pred_label == label:\n",
        "                    correct_test += 1\n",
        "\n",
        "        test_losses.append(total_test_loss / len(testing_data))\n",
        "        test_accuracies.append(correct_test / len(testing_data))\n",
        "\n",
        "        print(f\"\\nEpoch {epoch}/{n_epoch}\")\n",
        "        print(f\"  Train Loss: {train_losses[-1]:.4f}, Accuracy: {train_accuracies[-1]*100:.2f}%\")\n",
        "        print(f\"  Test  Loss: {test_losses[-1]:.4f}, Accuracy: {test_accuracies[-1]*100:.2f}%\")\n",
        "\n",
        "    return train_losses, test_losses, train_accuracies, test_accuracies\n"
      ],
      "metadata": {
        "id": "7B2Ui5ULOpQV"
      },
      "execution_count": null,
      "outputs": []
    },
    {
      "cell_type": "markdown",
      "source": [
        "### ⏱️ Step 13: Run Training and Measure Time\n",
        "We call the training function for a fixed number of epochs and measure how long it takes.\n",
        "After training, we retrieve lists of training/test loss and accuracy for plotting and evaluation.\n"
      ],
      "metadata": {
        "id": "Vho6US6C7vCw"
      }
    },
    {
      "cell_type": "code",
      "source": [
        "start = time.time()\n",
        "train_losses, test_losses, train_accs, test_accs = train(rnn, train_set, test_set, n_epoch=27, learning_rate=0.15)\n",
        "end = time.time()\n",
        "print(f\"Training took {end - start:.2f}s\")\n"
      ],
      "metadata": {
        "colab": {
          "base_uri": "https://localhost:8080/"
        },
        "id": "TJYe2VtEOvx0",
        "outputId": "81e5cf69-68fb-4edc-f299-8d8275b17bad"
      },
      "execution_count": null,
      "outputs": [
        {
          "output_type": "stream",
          "name": "stderr",
          "text": []
        },
        {
          "output_type": "stream",
          "name": "stdout",
          "text": [
            "\n",
            "Epoch 1/27\n",
            "  Train Loss: 0.8428, Accuracy: 74.33%\n",
            "  Test  Loss: 0.8268, Accuracy: 74.56%\n"
          ]
        },
        {
          "output_type": "stream",
          "name": "stderr",
          "text": []
        },
        {
          "output_type": "stream",
          "name": "stdout",
          "text": [
            "\n",
            "Epoch 2/27\n",
            "  Train Loss: 0.7993, Accuracy: 75.39%\n",
            "  Test  Loss: 0.8144, Accuracy: 75.56%\n"
          ]
        },
        {
          "output_type": "stream",
          "name": "stderr",
          "text": []
        },
        {
          "output_type": "stream",
          "name": "stdout",
          "text": [
            "\n",
            "Epoch 3/27\n",
            "  Train Loss: 0.7574, Accuracy: 76.46%\n",
            "  Test  Loss: 0.8035, Accuracy: 75.66%\n"
          ]
        },
        {
          "output_type": "stream",
          "name": "stderr",
          "text": []
        },
        {
          "output_type": "stream",
          "name": "stdout",
          "text": [
            "\n",
            "Epoch 4/27\n",
            "  Train Loss: 0.7211, Accuracy: 77.74%\n",
            "  Test  Loss: 0.7979, Accuracy: 75.09%\n"
          ]
        },
        {
          "output_type": "stream",
          "name": "stderr",
          "text": []
        },
        {
          "output_type": "stream",
          "name": "stdout",
          "text": [
            "\n",
            "Epoch 5/27\n",
            "  Train Loss: 0.6940, Accuracy: 78.39%\n",
            "  Test  Loss: 0.7499, Accuracy: 77.15%\n"
          ]
        },
        {
          "output_type": "stream",
          "name": "stderr",
          "text": []
        },
        {
          "output_type": "stream",
          "name": "stdout",
          "text": [
            "\n",
            "Epoch 6/27\n",
            "  Train Loss: 0.6642, Accuracy: 79.21%\n",
            "  Test  Loss: 0.7442, Accuracy: 77.02%\n"
          ]
        },
        {
          "output_type": "stream",
          "name": "stderr",
          "text": []
        },
        {
          "output_type": "stream",
          "name": "stdout",
          "text": [
            "\n",
            "Epoch 7/27\n",
            "  Train Loss: 0.6391, Accuracy: 79.78%\n",
            "  Test  Loss: 0.7248, Accuracy: 78.18%\n"
          ]
        },
        {
          "output_type": "stream",
          "name": "stderr",
          "text": []
        },
        {
          "output_type": "stream",
          "name": "stdout",
          "text": [
            "\n",
            "Epoch 8/27\n",
            "  Train Loss: 0.6179, Accuracy: 80.42%\n",
            "  Test  Loss: 0.7374, Accuracy: 78.18%\n"
          ]
        },
        {
          "output_type": "stream",
          "name": "stderr",
          "text": []
        },
        {
          "output_type": "stream",
          "name": "stdout",
          "text": [
            "\n",
            "Epoch 9/27\n",
            "  Train Loss: 0.5991, Accuracy: 80.54%\n",
            "  Test  Loss: 0.7519, Accuracy: 77.81%\n"
          ]
        },
        {
          "output_type": "stream",
          "name": "stderr",
          "text": []
        },
        {
          "output_type": "stream",
          "name": "stdout",
          "text": [
            "\n",
            "Epoch 10/27\n",
            "  Train Loss: 0.5749, Accuracy: 81.75%\n",
            "  Test  Loss: 0.7839, Accuracy: 76.32%\n"
          ]
        },
        {
          "output_type": "stream",
          "name": "stderr",
          "text": []
        },
        {
          "output_type": "stream",
          "name": "stdout",
          "text": [
            "\n",
            "Epoch 11/27\n",
            "  Train Loss: 0.5571, Accuracy: 82.06%\n",
            "  Test  Loss: 0.7400, Accuracy: 77.45%\n"
          ]
        },
        {
          "output_type": "stream",
          "name": "stderr",
          "text": []
        },
        {
          "output_type": "stream",
          "name": "stdout",
          "text": [
            "\n",
            "Epoch 12/27\n",
            "  Train Loss: 0.5467, Accuracy: 82.54%\n",
            "  Test  Loss: 0.7169, Accuracy: 78.78%\n"
          ]
        },
        {
          "output_type": "stream",
          "name": "stderr",
          "text": []
        },
        {
          "output_type": "stream",
          "name": "stdout",
          "text": [
            "\n",
            "Epoch 13/27\n",
            "  Train Loss: 0.5273, Accuracy: 82.74%\n",
            "  Test  Loss: 0.7258, Accuracy: 78.31%\n"
          ]
        },
        {
          "output_type": "stream",
          "name": "stderr",
          "text": []
        },
        {
          "output_type": "stream",
          "name": "stdout",
          "text": [
            "\n",
            "Epoch 14/27\n",
            "  Train Loss: 0.5114, Accuracy: 83.33%\n",
            "  Test  Loss: 0.7198, Accuracy: 78.81%\n"
          ]
        },
        {
          "output_type": "stream",
          "name": "stderr",
          "text": []
        },
        {
          "output_type": "stream",
          "name": "stdout",
          "text": [
            "\n",
            "Epoch 15/27\n",
            "  Train Loss: 0.4946, Accuracy: 83.92%\n",
            "  Test  Loss: 0.7314, Accuracy: 78.84%\n"
          ]
        },
        {
          "output_type": "stream",
          "name": "stderr",
          "text": []
        },
        {
          "output_type": "stream",
          "name": "stdout",
          "text": [
            "\n",
            "Epoch 16/27\n",
            "  Train Loss: 0.4814, Accuracy: 84.02%\n",
            "  Test  Loss: 0.7081, Accuracy: 78.91%\n"
          ]
        },
        {
          "output_type": "stream",
          "name": "stderr",
          "text": []
        },
        {
          "output_type": "stream",
          "name": "stdout",
          "text": [
            "\n",
            "Epoch 17/27\n",
            "  Train Loss: 0.4681, Accuracy: 84.67%\n",
            "  Test  Loss: 0.7702, Accuracy: 78.74%\n"
          ]
        },
        {
          "output_type": "stream",
          "name": "stderr",
          "text": []
        },
        {
          "output_type": "stream",
          "name": "stdout",
          "text": [
            "\n",
            "Epoch 18/27\n",
            "  Train Loss: 0.4530, Accuracy: 85.09%\n",
            "  Test  Loss: 0.7357, Accuracy: 78.18%\n"
          ]
        },
        {
          "output_type": "stream",
          "name": "stderr",
          "text": []
        },
        {
          "output_type": "stream",
          "name": "stdout",
          "text": [
            "\n",
            "Epoch 19/27\n",
            "  Train Loss: 0.4376, Accuracy: 85.53%\n",
            "  Test  Loss: 0.7579, Accuracy: 78.84%\n"
          ]
        },
        {
          "output_type": "stream",
          "name": "stderr",
          "text": []
        },
        {
          "output_type": "stream",
          "name": "stdout",
          "text": [
            "\n",
            "Epoch 20/27\n",
            "  Train Loss: 0.4353, Accuracy: 85.49%\n",
            "  Test  Loss: 0.7714, Accuracy: 78.64%\n"
          ]
        },
        {
          "output_type": "stream",
          "name": "stderr",
          "text": []
        },
        {
          "output_type": "stream",
          "name": "stdout",
          "text": [
            "\n",
            "Epoch 21/27\n",
            "  Train Loss: 0.4301, Accuracy: 85.86%\n",
            "  Test  Loss: 0.8013, Accuracy: 78.08%\n"
          ]
        },
        {
          "output_type": "stream",
          "name": "stderr",
          "text": []
        },
        {
          "output_type": "stream",
          "name": "stdout",
          "text": [
            "\n",
            "Epoch 22/27\n",
            "  Train Loss: 0.4154, Accuracy: 86.03%\n",
            "  Test  Loss: 0.7493, Accuracy: 79.61%\n"
          ]
        },
        {
          "output_type": "stream",
          "name": "stderr",
          "text": []
        },
        {
          "output_type": "stream",
          "name": "stdout",
          "text": [
            "\n",
            "Epoch 23/27\n",
            "  Train Loss: 0.4057, Accuracy: 86.76%\n",
            "  Test  Loss: 0.7786, Accuracy: 78.48%\n"
          ]
        },
        {
          "output_type": "stream",
          "name": "stderr",
          "text": []
        },
        {
          "output_type": "stream",
          "name": "stdout",
          "text": [
            "\n",
            "Epoch 24/27\n",
            "  Train Loss: 0.4011, Accuracy: 86.61%\n",
            "  Test  Loss: 0.7668, Accuracy: 78.91%\n"
          ]
        },
        {
          "output_type": "stream",
          "name": "stderr",
          "text": []
        },
        {
          "output_type": "stream",
          "name": "stdout",
          "text": [
            "\n",
            "Epoch 25/27\n",
            "  Train Loss: 0.3948, Accuracy: 86.95%\n",
            "  Test  Loss: 0.7856, Accuracy: 77.78%\n"
          ]
        },
        {
          "output_type": "stream",
          "name": "stderr",
          "text": []
        },
        {
          "output_type": "stream",
          "name": "stdout",
          "text": [
            "\n",
            "Epoch 26/27\n",
            "  Train Loss: 0.3897, Accuracy: 86.99%\n",
            "  Test  Loss: 0.7666, Accuracy: 78.91%\n"
          ]
        },
        {
          "output_type": "stream",
          "name": "stderr",
          "text": []
        },
        {
          "output_type": "stream",
          "name": "stdout",
          "text": [
            "\n",
            "Epoch 27/27\n",
            "  Train Loss: 0.3819, Accuracy: 87.33%\n",
            "  Test  Loss: 0.7923, Accuracy: 76.82%\n",
            "Training took 628.23s\n"
          ]
        }
      ]
    },
    {
      "cell_type": "markdown",
      "source": [
        "### 📈 Step 14: Plot Loss Over Epochs\n",
        "We plot the test Loss over training epochs to visually monitor the model’s performance.\n",
        "\n"
      ],
      "metadata": {
        "id": "mL-tA1sq76d2"
      }
    },
    {
      "cell_type": "code",
      "source": [
        "# ✅ Plot training and test loss over epochs\n",
        "plt.figure()\n",
        "plt.plot(train_losses, label='Train Loss', color='green', marker='o')\n",
        "plt.plot(test_losses, label='Test Loss', color='red', marker='s')\n",
        "plt.title('Train vs. Test Loss Over Epochs')\n",
        "plt.xlabel('Epoch')\n",
        "plt.ylabel('Loss')\n",
        "plt.grid(True)\n",
        "plt.legend()\n",
        "plt.show()\n"
      ],
      "metadata": {
        "colab": {
          "base_uri": "https://localhost:8080/",
          "height": 472
        },
        "id": "itd4-fGCOz7o",
        "outputId": "c9adc784-0512-4dd2-d664-9eada640d2e6"
      },
      "execution_count": null,
      "outputs": [
        {
          "output_type": "display_data",
          "data": {
            "text/plain": [
              "<Figure size 640x480 with 1 Axes>"
            ],
            "image/png": "[encoded data removed]"
          },
          "metadata": {}
        }
      ]
    },
    {
      "cell_type": "markdown",
      "source": [
        "### 📈 Step 15: Plot Accuracy Over Epochs\n",
        "We plot the test accuracy over training epochs to visually monitor the model’s performance.\n",
        "Accuracy values range from 0 to 1 (i.e., 0% to 100%).\n"
      ],
      "metadata": {
        "id": "woOH-lFF8APw"
      }
    },
    {
      "cell_type": "code",
      "source": [
        "# ✅ Plot training and test accuracy over epochs\n",
        "plt.figure()\n",
        "plt.plot(train_accs, label='Train Accuracy', color='blue', marker='o')\n",
        "plt.plot(test_accs, label='Test Accuracy', color='orange', marker='s')\n",
        "plt.title('Train vs. Test Accuracy Over Epochs')\n",
        "plt.xlabel('Epoch')\n",
        "plt.ylabel('Accuracy')\n",
        "plt.ylim(0, 1.05)\n",
        "plt.grid(True)\n",
        "plt.legend()\n",
        "plt.show()\n"
      ],
      "metadata": {
        "colab": {
          "base_uri": "https://localhost:8080/",
          "height": 472
        },
        "id": "BV_6wvrx3htp",
        "outputId": "fa444b7f-6112-4d50-8831-a6a2431c645e"
      },
      "execution_count": null,
      "outputs": [
        {
          "output_type": "display_data",
          "data": {
            "text/plain": [
              "<Figure size 640x480 with 1 Axes>"
            ],
            "image/png": "[encoded data removed]"
          },
          "metadata": {}
        }
      ]
    },
    {
      "cell_type": "markdown",
      "source": [
        "### 📊 Step 16: Evaluate Model with Confusion Matrix\n",
        "We evaluate the model on the test set and build a confusion matrix to:\n",
        "- Visualize how often the model confuses one language with another.\n",
        "- Normalize each row so values represent percentages.\n",
        "- Highlight patterns or biases in classification performance.\n"
      ],
      "metadata": {
        "id": "WSv8Txor70AJ"
      }
    },
    {
      "cell_type": "code",
      "source": [
        "def evaluate(rnn, testing_data, classes):\n",
        "    confusion = torch.zeros(len(classes), len(classes))\n",
        "\n",
        "    rnn.eval() #set to eval mode\n",
        "    with torch.no_grad(): # do not record the gradients during eval phase\n",
        "        for i in range(len(testing_data)):\n",
        "            (label_tensor, text_tensor, label, text) = testing_data[i]\n",
        "            output = rnn(text_tensor)\n",
        "            guess, guess_i = label_from_output(output, classes)\n",
        "            label_i = classes.index(label)\n",
        "            confusion[label_i][guess_i] += 1\n",
        "\n",
        "    # Normalize by dividing every row by its sum\n",
        "    for i in range(len(classes)):\n",
        "        denom = confusion[i].sum()\n",
        "        if denom > 0:\n",
        "            confusion[i] = confusion[i] / denom\n",
        "\n",
        "    # Set up plot\n",
        "    fig = plt.figure()\n",
        "    ax = fig.add_subplot(111)\n",
        "    cax = ax.matshow(confusion.cpu().numpy()) #numpy uses cpu here so we need to use a cpu version\n",
        "    fig.colorbar(cax)\n",
        "\n",
        "    # Set up axes\n",
        "    ax.set_xticks(np.arange(len(classes)), labels=classes, rotation=90)\n",
        "    ax.set_yticks(np.arange(len(classes)), labels=classes)\n",
        "\n",
        "    # Force label at every tick\n",
        "    ax.xaxis.set_major_locator(ticker.MultipleLocator(1))\n",
        "    ax.yaxis.set_major_locator(ticker.MultipleLocator(1))\n",
        "\n",
        "    # sphinx_gallery_thumbnail_number = 2\n",
        "    plt.show()\n",
        "\n",
        "\n",
        "\n",
        "evaluate(rnn, test_set, classes=alldata.labels_uniq)"
      ],
      "metadata": {
        "colab": {
          "base_uri": "https://localhost:8080/",
          "height": 506
        },
        "id": "wHC4iya0O2dO",
        "outputId": "a4b2d506-1fd7-4242-db87-311ee6c28b09"
      },
      "execution_count": null,
      "outputs": [
        {
          "output_type": "display_data",
          "data": {
            "text/plain": [
              "<Figure size 640x480 with 2 Axes>"
            ],
            "image/png": "[encoded data removed]"
          },
          "metadata": {}
        }
      ]
    },
    {
      "cell_type": "markdown",
      "source": [
        "### ✨ Step 16: Predict Language of a Custom Surname\n",
        "This cell allows you to test the trained model on a custom surname (e.g., \"Haddad\").\n",
        "It:\n",
        "- Converts the name to a tensor.\n",
        "- Passes it through the trained model.\n",
        "- Prints the predicted language along with a confidence score.\n",
        "You can replace the `test_name` value to try different names.\n"
      ],
      "metadata": {
        "id": "-QSup9IR8LKm"
      }
    },
    {
      "cell_type": "code",
      "source": [
        "# ✅ Inference function to predict the language of a given name\n",
        "def predict_language(rnn, name, label_list):\n",
        "    rnn.eval()\n",
        "    with torch.no_grad():\n",
        "        name_tensor = lineToTensor(name)\n",
        "        output = rnn(name_tensor)\n",
        "        predicted_label, confidence_idx = label_from_output(output, label_list)\n",
        "        confidence = torch.exp(output[0][confidence_idx]).item()\n",
        "        return predicted_label, confidence\n",
        "\n",
        "# --- Run inference on a static example ---\n",
        "test_name = \"Haddad\"\n",
        "predicted_lang, conf = predict_language(rnn, test_name, alldata.labels_uniq)\n",
        "print(f\"Surname: {test_name}\")\n",
        "print(f\"Predicted Language: {predicted_lang}\")\n",
        "print(f\"Confidence: {conf:.2f}\")\n"
      ],
      "metadata": {
        "colab": {
          "base_uri": "https://localhost:8080/"
        },
        "id": "Y_i5OegEO5zB",
        "outputId": "9258cace-8c46-48bc-ec26-74cfe718e30c"
      },
      "execution_count": null,
      "outputs": [
        {
          "output_type": "stream",
          "name": "stdout",
          "text": [
            "Surname: Haddad\n",
            "Predicted Language: Arabic\n",
            "Confidence: 1.00\n"
          ]
        }
      ]
    },
    {
      "cell_type": "code",
      "source": [],
      "metadata": {
        "id": "WBsovOuL3spE"
      },
      "execution_count": null,
      "outputs": []
    },
    {
      "cell_type": "markdown",
      "source": [
        "##Contirbuted by: Yazan Alshoibi"
      ],
      "metadata": {
        "id": "qVzFkzYNPr4y"
      }
    }
  ],
  "metadata": {
    "kernelspec": {
      "display_name": "Python 3",
      "name": "python3"
    },
    "language_info": {
      "codemirror_mode": {
        "name": "ipython",
        "version": 3
      },
      "file_extension": ".py",
      "mimetype": "text/x-python",
      "name": "python",
      "nbconvert_exporter": "python",
      "pygments_lexer": "ipython3",
      "version": "3.12.4"
    },
    "colab": {
      "provenance": [],
      "gpuType": "T4"
    },
    "accelerator": "GPU"
  },
  "nbformat": 4,
  "nbformat_minor": 0
}