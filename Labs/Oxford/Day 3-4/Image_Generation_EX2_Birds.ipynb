{
  "nbformat": 4,
  "nbformat_minor": 0,
  "metadata": {
    "colab": {
      "provenance": [],
      "gpuType": "T4"
    },
    "kernelspec": {
      "name": "python3",
      "display_name": "Python 3"
    },
    "language_info": {
      "name": "python"
    },
    "accelerator": "GPU"
  },
  "cells": [
    {
      "cell_type": "markdown",
      "source": [
        "![image.png](https://i.imgur.com/a3uAqnb.png)"
      ],
      "metadata": {
        "id": "9JuZB24Bqd4z"
      }
    },
    {
      "cell_type": "markdown",
      "source": [
        "# Birds Images Generation:\n",
        "\n",
        "## Intution: You have been seeing generated images and videos thorugh the social media, so it is now your turn as an AI Engineer to create a model that generates birds images.\n",
        "\n",
        "### 1. Data set Details:\n",
        "\n",
        "- The provided data set 200k images of birds (iNaturalist)\n",
        "200K images of birds over 1486 classes. each class has 140 images.\n",
        "\n",
        "### 2. Size of data:\n",
        "- Length of train_dataset is 208043,\n",
        "\n",
        "\n",
        "<br/>\n",
        "\n",
        "\n",
        "### 5. Refrence:\n",
        "The data is on Kaggle in the following link:\n",
        "https://www.kaggle.com/datasets/sharansmenon/inatbirds100k/data"
      ],
      "metadata": {
        "id": "JBNjc2JpLGIa"
      }
    },
    {
      "cell_type": "code",
      "execution_count": null,
      "metadata": {
        "id": "BCpQaqwoH2Pk"
      },
      "outputs": [],
      "source": [
        "from IPython.display import clear_output"
      ]
    },
    {
      "cell_type": "code",
      "source": [
        "import torch\n",
        "import torch.nn as nn\n",
        "from torch.utils.data import Dataset, DataLoader\n",
        "from torchvision import datasets, transforms\n",
        "from torchvision.transforms import ToTensor, Resize, Normalize\n",
        "from torchsummary import summary\n",
        "import matplotlib.pyplot as plt\n",
        "from mpl_toolkits.axes_grid1 import ImageGrid\n",
        "from tqdm import tqdm\n",
        "import numpy as np\n",
        "import kagglehub\n",
        "from PIL import Image\n",
        "import os\n",
        "from glob import glob"
      ],
      "metadata": {
        "id": "wSgzIHcB2qME"
      },
      "execution_count": null,
      "outputs": []
    },
    {
      "cell_type": "markdown",
      "source": [
        "## Downloading the data"
      ],
      "metadata": {
        "id": "NsoO1UTgGgMl"
      }
    },
    {
      "cell_type": "code",
      "source": [
        "#!/bin/bash\n",
        "\n",
        "# If you want to download the data using a different way, you can check the dataset's link\n",
        "#Dataset Link: https://www.kaggle.com/datasets/sharansmenon/inatbirds100k/data\n",
        "\n",
        "!curl -L -o /content/inatbirds100k.zip https://www.kaggle.com/api/v1/datasets/download/sharansmenon/inatbirds100k\n",
        "!unzip -q /content/inatbirds100k.zip -d /content/\n",
        "DATASET_PATH = \"/content/birds_train_small\"\n",
        "print(\"The path for the dataset is\", DATASET_PATH)"
      ],
      "metadata": {
        "colab": {
          "base_uri": "https://localhost:8080/"
        },
        "id": "sVOxyWwBxIaq",
        "outputId": "495ffd1a-41c3-4488-b18a-5ae01929d042"
      },
      "execution_count": null,
      "outputs": [
        {
          "output_type": "stream",
          "name": "stdout",
          "text": [
            "  % Total    % Received % Xferd  Average Speed   Time    Time     Time  Current\n",
            "                                 Dload  Upload   Total   Spent    Left  Speed\n",
            "  0     0    0     0    0     0      0      0 --:--:-- --:--:-- --:--:--     0\n",
            "100 14.2G  100 14.2G    0     0  21.6M      0  0:11:10  0:11:10 --:--:-- 22.1M\n",
            "The path for the dataset is /content/birds_train_small\n"
          ]
        }
      ]
    },
    {
      "cell_type": "code",
      "source": [
        "from torch.utils.data import Subset\n",
        "# Define transform\n",
        "transform = transforms.Compose([\n",
        "    transforms.ToTensor(),\n",
        "    transforms.Resize((256, 256)),\n",
        "    transforms.Normalize((0.5, 0.5, 0.5), (0.5, 0.5, 0.5)), # normalizing to [-1,1]\n",
        "])\n",
        "\n",
        "# Create ImageFolder dataset\n",
        "bird_dataset = datasets.ImageFolder(root=DATASET_PATH, transform=transform)\n",
        "\n",
        "# Create DataLoader with the limited dataset\n",
        "train_dataloader = DataLoader(bird_dataset, batch_size=64, shuffle=True)\n",
        "\n",
        "# number of samples\n",
        "print(\"Number of samples:\", len(bird_dataset))"
      ],
      "metadata": {
        "id": "_-cR946WGnFw"
      },
      "execution_count": null,
      "outputs": []
    },
    {
      "cell_type": "markdown",
      "source": [
        "### Create a GAN model to generate new images.\n",
        "- Display multiple random images. (to explore them)\n",
        "- Make sure to add at least 2 NN layers for the generator and the discriminator.\n",
        "- Display the losses per epoch of the training for generator and discriminator.\n",
        "- Show some generated images each epoch.\n",
        "- Generate new images after you finish traning.\n",
        "\n",
        "<br>\n",
        "<br>\n",
        "HINT: Play with the dataset if it is taking too long during the training."
      ],
      "metadata": {
        "id": "ObDvaInfAdBJ"
      }
    },
    {
      "cell_type": "code",
      "source": [],
      "metadata": {
        "id": "5G7ib-G0LTC1"
      },
      "execution_count": null,
      "outputs": []
    },
    {
      "cell_type": "markdown",
      "source": [
        "# Contributed by: Hassan Alsayhah"
      ],
      "metadata": {
        "id": "LgJ5LaE6qj6Q"
      }
    },
    {
      "cell_type": "markdown",
      "source": [
        "![image.png](https://i.imgur.com/a3uAqnb.png)"
      ],
      "metadata": {
        "id": "tczU0ZspqonW"
      }
    }
  ]
}